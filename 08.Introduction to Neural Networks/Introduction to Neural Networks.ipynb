{
 "cells": [
  {
   "cell_type": "code",
   "execution_count": 2,
   "id": "c3deb842-3e14-4317-be1a-b7840de6d976",
   "metadata": {},
   "outputs": [],
   "source": [
    "%matplotlib inline"
   ]
  },
  {
   "cell_type": "code",
   "execution_count": 3,
   "id": "da70fb4c-428a-42d8-9337-0c8a1df1774b",
   "metadata": {},
   "outputs": [],
   "source": [
    "import numpy as np\n",
    "import pandas as pd\n",
    "import matplotlib.pyplot as plt"
   ]
  },
  {
   "cell_type": "markdown",
   "id": "a4db16fd-25a5-4299-b717-237555f4f48f",
   "metadata": {},
   "source": [
    "# Introduction to Neural Networks - NN\n",
    "\n",
    "Имплементации на алгоритми за Recommendation systems може да се видят на: \n",
    "    - https://surpriselib.com/\n",
    "    \n",
    "Check this libraries:\n",
    "\n",
    "    - yellowbrick: https://www.scikit-yb.org/en/latest/\n",
    "    - dask: https://www.dask.org/\n",
    "    - https://imbalanced-learn.org/stable/\n",
    "    - https://dvc.org/\n",
    "    - https://github.com/hyperopt/hyperopt-sklearn\n",
    "    - https://scipy.org/\n",
    "\n",
    "Machine learning Комикси:\n",
    "- https://xkcd.com/1838/"
   ]
  },
  {
   "cell_type": "code",
   "execution_count": null,
   "id": "3dd1f0c9-7758-4ef3-a000-81de48c0b69f",
   "metadata": {},
   "outputs": [],
   "source": []
  }
 ],
 "metadata": {
  "kernelspec": {
   "display_name": "Python 3 (ipykernel)",
   "language": "python",
   "name": "python3"
  },
  "language_info": {
   "codemirror_mode": {
    "name": "ipython",
    "version": 3
   },
   "file_extension": ".py",
   "mimetype": "text/x-python",
   "name": "python",
   "nbconvert_exporter": "python",
   "pygments_lexer": "ipython3",
   "version": "3.11.7"
  }
 },
 "nbformat": 4,
 "nbformat_minor": 5
}

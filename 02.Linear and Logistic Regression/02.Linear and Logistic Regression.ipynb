{
 "cells": [
  {
   "cell_type": "code",
   "execution_count": 28,
   "id": "c4e6da33-c852-4ac1-8968-d7239d12f9a0",
   "metadata": {},
   "outputs": [],
   "source": [
    "%matplotlib inline"
   ]
  },
  {
   "cell_type": "code",
   "execution_count": 99,
   "id": "dbe5c616-8b13-4df3-8c86-3c4eb0f04bab",
   "metadata": {},
   "outputs": [],
   "source": [
    "import numpy as np\n",
    "import pandas as pd\n",
    "import matplotlib.pyplot as plt\n",
    "\n",
    "from sklearn.datasets import fetch_california_housing\n",
    "\n",
    "from sklearn.preprocessing import MinMaxScaler, StandardScaler, PolynomialFeatures\n",
    "\n",
    "from sklearn.linear_model import LinearRegression, RANSACRegressor"
   ]
  },
  {
   "cell_type": "markdown",
   "id": "869f5216-f1ac-4909-b8b4-314961657c61",
   "metadata": {},
   "source": [
    "# Linear and Logistic Regression"
   ]
  },
  {
   "cell_type": "code",
   "execution_count": 9,
   "id": "ab0faefa-e6f0-4d1c-872f-444017542a6b",
   "metadata": {},
   "outputs": [],
   "source": [
    "dataset = fetch_california_housing()"
   ]
  },
  {
   "cell_type": "code",
   "execution_count": 12,
   "id": "e15f94ed-006f-4754-922d-c6cceb86a66c",
   "metadata": {},
   "outputs": [
    {
     "name": "stdout",
     "output_type": "stream",
     "text": [
      ".. _california_housing_dataset:\n",
      "\n",
      "California Housing dataset\n",
      "--------------------------\n",
      "\n",
      "**Data Set Characteristics:**\n",
      "\n",
      "    :Number of Instances: 20640\n",
      "\n",
      "    :Number of Attributes: 8 numeric, predictive attributes and the target\n",
      "\n",
      "    :Attribute Information:\n",
      "        - MedInc        median income in block group\n",
      "        - HouseAge      median house age in block group\n",
      "        - AveRooms      average number of rooms per household\n",
      "        - AveBedrms     average number of bedrooms per household\n",
      "        - Population    block group population\n",
      "        - AveOccup      average number of household members\n",
      "        - Latitude      block group latitude\n",
      "        - Longitude     block group longitude\n",
      "\n",
      "    :Missing Attribute Values: None\n",
      "\n",
      "This dataset was obtained from the StatLib repository.\n",
      "https://www.dcc.fc.up.pt/~ltorgo/Regression/cal_housing.html\n",
      "\n",
      "The target variable is the median house value for California districts,\n",
      "expressed in hundreds of thousands of dollars ($100,000).\n",
      "\n",
      "This dataset was derived from the 1990 U.S. census, using one row per census\n",
      "block group. A block group is the smallest geographical unit for which the U.S.\n",
      "Census Bureau publishes sample data (a block group typically has a population\n",
      "of 600 to 3,000 people).\n",
      "\n",
      "An household is a group of people residing within a home. Since the average\n",
      "number of rooms and bedrooms in this dataset are provided per household, these\n",
      "columns may take surpinsingly large values for block groups with few households\n",
      "and many empty houses, such as vacation resorts.\n",
      "\n",
      "It can be downloaded/loaded using the\n",
      ":func:`sklearn.datasets.fetch_california_housing` function.\n",
      "\n",
      ".. topic:: References\n",
      "\n",
      "    - Pace, R. Kelley and Ronald Barry, Sparse Spatial Autoregressions,\n",
      "      Statistics and Probability Letters, 33 (1997) 291-297\n",
      "\n"
     ]
    }
   ],
   "source": [
    "print(dataset.DESCR)"
   ]
  },
  {
   "cell_type": "code",
   "execution_count": 15,
   "id": "90ca3d1f-501b-464f-bf6c-2412a6234545",
   "metadata": {},
   "outputs": [
    {
     "data": {
      "text/plain": [
       "array([[   8.3252    ,   41.        ,    6.98412698, ...,    2.55555556,\n",
       "          37.88      , -122.23      ],\n",
       "       [   8.3014    ,   21.        ,    6.23813708, ...,    2.10984183,\n",
       "          37.86      , -122.22      ],\n",
       "       [   7.2574    ,   52.        ,    8.28813559, ...,    2.80225989,\n",
       "          37.85      , -122.24      ],\n",
       "       ...,\n",
       "       [   1.7       ,   17.        ,    5.20554273, ...,    2.3256351 ,\n",
       "          39.43      , -121.22      ],\n",
       "       [   1.8672    ,   18.        ,    5.32951289, ...,    2.12320917,\n",
       "          39.43      , -121.32      ],\n",
       "       [   2.3886    ,   16.        ,    5.25471698, ...,    2.61698113,\n",
       "          39.37      , -121.24      ]])"
      ]
     },
     "execution_count": 15,
     "metadata": {},
     "output_type": "execute_result"
    }
   ],
   "source": [
    "dataset.data"
   ]
  },
  {
   "cell_type": "code",
   "execution_count": 13,
   "id": "89ddd244-2d38-48e7-8769-a59c16c72395",
   "metadata": {},
   "outputs": [],
   "source": [
    "df = fetch_california_housing(as_frame = True)"
   ]
  },
  {
   "cell_type": "code",
   "execution_count": 16,
   "id": "953858ba-4a04-4d50-b6c0-f94160153e60",
   "metadata": {},
   "outputs": [],
   "source": [
    "house_prices = df.frame"
   ]
  },
  {
   "cell_type": "code",
   "execution_count": 17,
   "id": "c72b0f6b-d05a-4314-8bc8-d4c532bf19f6",
   "metadata": {},
   "outputs": [
    {
     "data": {
      "text/html": [
       "<div>\n",
       "<style scoped>\n",
       "    .dataframe tbody tr th:only-of-type {\n",
       "        vertical-align: middle;\n",
       "    }\n",
       "\n",
       "    .dataframe tbody tr th {\n",
       "        vertical-align: top;\n",
       "    }\n",
       "\n",
       "    .dataframe thead th {\n",
       "        text-align: right;\n",
       "    }\n",
       "</style>\n",
       "<table border=\"1\" class=\"dataframe\">\n",
       "  <thead>\n",
       "    <tr style=\"text-align: right;\">\n",
       "      <th></th>\n",
       "      <th>MedInc</th>\n",
       "      <th>HouseAge</th>\n",
       "      <th>AveRooms</th>\n",
       "      <th>AveBedrms</th>\n",
       "      <th>Population</th>\n",
       "      <th>AveOccup</th>\n",
       "      <th>Latitude</th>\n",
       "      <th>Longitude</th>\n",
       "      <th>MedHouseVal</th>\n",
       "    </tr>\n",
       "  </thead>\n",
       "  <tbody>\n",
       "    <tr>\n",
       "      <th>0</th>\n",
       "      <td>8.3252</td>\n",
       "      <td>41.0</td>\n",
       "      <td>6.984127</td>\n",
       "      <td>1.023810</td>\n",
       "      <td>322.0</td>\n",
       "      <td>2.555556</td>\n",
       "      <td>37.88</td>\n",
       "      <td>-122.23</td>\n",
       "      <td>4.526</td>\n",
       "    </tr>\n",
       "    <tr>\n",
       "      <th>1</th>\n",
       "      <td>8.3014</td>\n",
       "      <td>21.0</td>\n",
       "      <td>6.238137</td>\n",
       "      <td>0.971880</td>\n",
       "      <td>2401.0</td>\n",
       "      <td>2.109842</td>\n",
       "      <td>37.86</td>\n",
       "      <td>-122.22</td>\n",
       "      <td>3.585</td>\n",
       "    </tr>\n",
       "    <tr>\n",
       "      <th>2</th>\n",
       "      <td>7.2574</td>\n",
       "      <td>52.0</td>\n",
       "      <td>8.288136</td>\n",
       "      <td>1.073446</td>\n",
       "      <td>496.0</td>\n",
       "      <td>2.802260</td>\n",
       "      <td>37.85</td>\n",
       "      <td>-122.24</td>\n",
       "      <td>3.521</td>\n",
       "    </tr>\n",
       "    <tr>\n",
       "      <th>3</th>\n",
       "      <td>5.6431</td>\n",
       "      <td>52.0</td>\n",
       "      <td>5.817352</td>\n",
       "      <td>1.073059</td>\n",
       "      <td>558.0</td>\n",
       "      <td>2.547945</td>\n",
       "      <td>37.85</td>\n",
       "      <td>-122.25</td>\n",
       "      <td>3.413</td>\n",
       "    </tr>\n",
       "    <tr>\n",
       "      <th>4</th>\n",
       "      <td>3.8462</td>\n",
       "      <td>52.0</td>\n",
       "      <td>6.281853</td>\n",
       "      <td>1.081081</td>\n",
       "      <td>565.0</td>\n",
       "      <td>2.181467</td>\n",
       "      <td>37.85</td>\n",
       "      <td>-122.25</td>\n",
       "      <td>3.422</td>\n",
       "    </tr>\n",
       "    <tr>\n",
       "      <th>...</th>\n",
       "      <td>...</td>\n",
       "      <td>...</td>\n",
       "      <td>...</td>\n",
       "      <td>...</td>\n",
       "      <td>...</td>\n",
       "      <td>...</td>\n",
       "      <td>...</td>\n",
       "      <td>...</td>\n",
       "      <td>...</td>\n",
       "    </tr>\n",
       "    <tr>\n",
       "      <th>20635</th>\n",
       "      <td>1.5603</td>\n",
       "      <td>25.0</td>\n",
       "      <td>5.045455</td>\n",
       "      <td>1.133333</td>\n",
       "      <td>845.0</td>\n",
       "      <td>2.560606</td>\n",
       "      <td>39.48</td>\n",
       "      <td>-121.09</td>\n",
       "      <td>0.781</td>\n",
       "    </tr>\n",
       "    <tr>\n",
       "      <th>20636</th>\n",
       "      <td>2.5568</td>\n",
       "      <td>18.0</td>\n",
       "      <td>6.114035</td>\n",
       "      <td>1.315789</td>\n",
       "      <td>356.0</td>\n",
       "      <td>3.122807</td>\n",
       "      <td>39.49</td>\n",
       "      <td>-121.21</td>\n",
       "      <td>0.771</td>\n",
       "    </tr>\n",
       "    <tr>\n",
       "      <th>20637</th>\n",
       "      <td>1.7000</td>\n",
       "      <td>17.0</td>\n",
       "      <td>5.205543</td>\n",
       "      <td>1.120092</td>\n",
       "      <td>1007.0</td>\n",
       "      <td>2.325635</td>\n",
       "      <td>39.43</td>\n",
       "      <td>-121.22</td>\n",
       "      <td>0.923</td>\n",
       "    </tr>\n",
       "    <tr>\n",
       "      <th>20638</th>\n",
       "      <td>1.8672</td>\n",
       "      <td>18.0</td>\n",
       "      <td>5.329513</td>\n",
       "      <td>1.171920</td>\n",
       "      <td>741.0</td>\n",
       "      <td>2.123209</td>\n",
       "      <td>39.43</td>\n",
       "      <td>-121.32</td>\n",
       "      <td>0.847</td>\n",
       "    </tr>\n",
       "    <tr>\n",
       "      <th>20639</th>\n",
       "      <td>2.3886</td>\n",
       "      <td>16.0</td>\n",
       "      <td>5.254717</td>\n",
       "      <td>1.162264</td>\n",
       "      <td>1387.0</td>\n",
       "      <td>2.616981</td>\n",
       "      <td>39.37</td>\n",
       "      <td>-121.24</td>\n",
       "      <td>0.894</td>\n",
       "    </tr>\n",
       "  </tbody>\n",
       "</table>\n",
       "<p>20640 rows × 9 columns</p>\n",
       "</div>"
      ],
      "text/plain": [
       "       MedInc  HouseAge  AveRooms  AveBedrms  Population  AveOccup  Latitude  \\\n",
       "0      8.3252      41.0  6.984127   1.023810       322.0  2.555556     37.88   \n",
       "1      8.3014      21.0  6.238137   0.971880      2401.0  2.109842     37.86   \n",
       "2      7.2574      52.0  8.288136   1.073446       496.0  2.802260     37.85   \n",
       "3      5.6431      52.0  5.817352   1.073059       558.0  2.547945     37.85   \n",
       "4      3.8462      52.0  6.281853   1.081081       565.0  2.181467     37.85   \n",
       "...       ...       ...       ...        ...         ...       ...       ...   \n",
       "20635  1.5603      25.0  5.045455   1.133333       845.0  2.560606     39.48   \n",
       "20636  2.5568      18.0  6.114035   1.315789       356.0  3.122807     39.49   \n",
       "20637  1.7000      17.0  5.205543   1.120092      1007.0  2.325635     39.43   \n",
       "20638  1.8672      18.0  5.329513   1.171920       741.0  2.123209     39.43   \n",
       "20639  2.3886      16.0  5.254717   1.162264      1387.0  2.616981     39.37   \n",
       "\n",
       "       Longitude  MedHouseVal  \n",
       "0        -122.23        4.526  \n",
       "1        -122.22        3.585  \n",
       "2        -122.24        3.521  \n",
       "3        -122.25        3.413  \n",
       "4        -122.25        3.422  \n",
       "...          ...          ...  \n",
       "20635    -121.09        0.781  \n",
       "20636    -121.21        0.771  \n",
       "20637    -121.22        0.923  \n",
       "20638    -121.32        0.847  \n",
       "20639    -121.24        0.894  \n",
       "\n",
       "[20640 rows x 9 columns]"
      ]
     },
     "execution_count": 17,
     "metadata": {},
     "output_type": "execute_result"
    }
   ],
   "source": [
    "house_prices"
   ]
  },
  {
   "cell_type": "code",
   "execution_count": 19,
   "id": "223745e7-073f-40b9-a98b-e070236cd6b8",
   "metadata": {},
   "outputs": [
    {
     "data": {
      "image/png": "[encoded data removed]",
      "text/plain": [
       "<Figure size 432x288 with 1 Axes>"
      ]
     },
     "metadata": {
      "needs_background": "light"
     },
     "output_type": "display_data"
    }
   ],
   "source": [
    "plt.hist(house_prices.MedInc, bins = \"fd\")\n",
    "plt.show()"
   ]
  },
  {
   "cell_type": "code",
   "execution_count": 21,
   "id": "1c5a33bd-1642-45ae-96d6-91949997ad64",
   "metadata": {},
   "outputs": [
    {
     "data": {
      "text/html": [
       "<div>\n",
       "<style scoped>\n",
       "    .dataframe tbody tr th:only-of-type {\n",
       "        vertical-align: middle;\n",
       "    }\n",
       "\n",
       "    .dataframe tbody tr th {\n",
       "        vertical-align: top;\n",
       "    }\n",
       "\n",
       "    .dataframe thead th {\n",
       "        text-align: right;\n",
       "    }\n",
       "</style>\n",
       "<table border=\"1\" class=\"dataframe\">\n",
       "  <thead>\n",
       "    <tr style=\"text-align: right;\">\n",
       "      <th></th>\n",
       "      <th>MedInc</th>\n",
       "      <th>HouseAge</th>\n",
       "      <th>AveRooms</th>\n",
       "      <th>AveBedrms</th>\n",
       "      <th>Population</th>\n",
       "      <th>AveOccup</th>\n",
       "      <th>Latitude</th>\n",
       "      <th>Longitude</th>\n",
       "      <th>MedHouseVal</th>\n",
       "    </tr>\n",
       "  </thead>\n",
       "  <tbody>\n",
       "    <tr>\n",
       "      <th>5304</th>\n",
       "      <td>14.2867</td>\n",
       "      <td>49.0</td>\n",
       "      <td>7.603774</td>\n",
       "      <td>0.946541</td>\n",
       "      <td>850.0</td>\n",
       "      <td>2.672956</td>\n",
       "      <td>34.07</td>\n",
       "      <td>-118.46</td>\n",
       "      <td>5.00001</td>\n",
       "    </tr>\n",
       "    <tr>\n",
       "      <th>15698</th>\n",
       "      <td>14.2959</td>\n",
       "      <td>52.0</td>\n",
       "      <td>8.172727</td>\n",
       "      <td>0.872727</td>\n",
       "      <td>304.0</td>\n",
       "      <td>2.763636</td>\n",
       "      <td>37.79</td>\n",
       "      <td>-122.46</td>\n",
       "      <td>5.00001</td>\n",
       "    </tr>\n",
       "    <tr>\n",
       "      <th>9811</th>\n",
       "      <td>14.4113</td>\n",
       "      <td>28.0</td>\n",
       "      <td>11.634686</td>\n",
       "      <td>1.509225</td>\n",
       "      <td>569.0</td>\n",
       "      <td>2.099631</td>\n",
       "      <td>36.57</td>\n",
       "      <td>-121.94</td>\n",
       "      <td>5.00001</td>\n",
       "    </tr>\n",
       "    <tr>\n",
       "      <th>16915</th>\n",
       "      <td>14.4219</td>\n",
       "      <td>52.0</td>\n",
       "      <td>8.253731</td>\n",
       "      <td>0.950249</td>\n",
       "      <td>519.0</td>\n",
       "      <td>2.582090</td>\n",
       "      <td>37.56</td>\n",
       "      <td>-122.35</td>\n",
       "      <td>5.00001</td>\n",
       "    </tr>\n",
       "    <tr>\n",
       "      <th>9370</th>\n",
       "      <td>14.5833</td>\n",
       "      <td>24.0</td>\n",
       "      <td>5.613333</td>\n",
       "      <td>0.853333</td>\n",
       "      <td>163.0</td>\n",
       "      <td>2.173333</td>\n",
       "      <td>37.92</td>\n",
       "      <td>-122.52</td>\n",
       "      <td>5.00001</td>\n",
       "    </tr>\n",
       "    <tr>\n",
       "      <th>10483</th>\n",
       "      <td>14.9009</td>\n",
       "      <td>8.0</td>\n",
       "      <td>9.860169</td>\n",
       "      <td>1.114407</td>\n",
       "      <td>899.0</td>\n",
       "      <td>3.809322</td>\n",
       "      <td>33.59</td>\n",
       "      <td>-117.68</td>\n",
       "      <td>5.00001</td>\n",
       "    </tr>\n",
       "    <tr>\n",
       "      <th>18052</th>\n",
       "      <td>15.0000</td>\n",
       "      <td>19.0</td>\n",
       "      <td>7.626263</td>\n",
       "      <td>0.939394</td>\n",
       "      <td>267.0</td>\n",
       "      <td>2.696970</td>\n",
       "      <td>37.25</td>\n",
       "      <td>-121.98</td>\n",
       "      <td>5.00001</td>\n",
       "    </tr>\n",
       "    <tr>\n",
       "      <th>5260</th>\n",
       "      <td>15.0000</td>\n",
       "      <td>39.0</td>\n",
       "      <td>9.293750</td>\n",
       "      <td>1.018750</td>\n",
       "      <td>414.0</td>\n",
       "      <td>2.587500</td>\n",
       "      <td>34.05</td>\n",
       "      <td>-118.50</td>\n",
       "      <td>5.00001</td>\n",
       "    </tr>\n",
       "    <tr>\n",
       "      <th>8853</th>\n",
       "      <td>15.0001</td>\n",
       "      <td>52.0</td>\n",
       "      <td>9.867036</td>\n",
       "      <td>1.091413</td>\n",
       "      <td>1163.0</td>\n",
       "      <td>3.221607</td>\n",
       "      <td>34.07</td>\n",
       "      <td>-118.41</td>\n",
       "      <td>5.00001</td>\n",
       "    </tr>\n",
       "    <tr>\n",
       "      <th>8854</th>\n",
       "      <td>15.0001</td>\n",
       "      <td>52.0</td>\n",
       "      <td>8.710145</td>\n",
       "      <td>1.028986</td>\n",
       "      <td>408.0</td>\n",
       "      <td>2.956522</td>\n",
       "      <td>34.07</td>\n",
       "      <td>-118.41</td>\n",
       "      <td>5.00001</td>\n",
       "    </tr>\n",
       "    <tr>\n",
       "      <th>8878</th>\n",
       "      <td>15.0001</td>\n",
       "      <td>52.0</td>\n",
       "      <td>8.000000</td>\n",
       "      <td>0.997333</td>\n",
       "      <td>1143.0</td>\n",
       "      <td>3.048000</td>\n",
       "      <td>34.04</td>\n",
       "      <td>-118.50</td>\n",
       "      <td>5.00001</td>\n",
       "    </tr>\n",
       "    <tr>\n",
       "      <th>10673</th>\n",
       "      <td>15.0001</td>\n",
       "      <td>13.0</td>\n",
       "      <td>7.842900</td>\n",
       "      <td>0.993958</td>\n",
       "      <td>1865.0</td>\n",
       "      <td>2.817221</td>\n",
       "      <td>33.62</td>\n",
       "      <td>-117.85</td>\n",
       "      <td>5.00001</td>\n",
       "    </tr>\n",
       "    <tr>\n",
       "      <th>10760</th>\n",
       "      <td>15.0001</td>\n",
       "      <td>15.0</td>\n",
       "      <td>8.062044</td>\n",
       "      <td>1.003650</td>\n",
       "      <td>735.0</td>\n",
       "      <td>2.682482</td>\n",
       "      <td>33.62</td>\n",
       "      <td>-117.87</td>\n",
       "      <td>5.00001</td>\n",
       "    </tr>\n",
       "    <tr>\n",
       "      <th>11520</th>\n",
       "      <td>15.0001</td>\n",
       "      <td>14.0</td>\n",
       "      <td>8.354232</td>\n",
       "      <td>1.037618</td>\n",
       "      <td>964.0</td>\n",
       "      <td>3.021944</td>\n",
       "      <td>33.72</td>\n",
       "      <td>-118.06</td>\n",
       "      <td>5.00001</td>\n",
       "    </tr>\n",
       "    <tr>\n",
       "      <th>15241</th>\n",
       "      <td>15.0001</td>\n",
       "      <td>17.0</td>\n",
       "      <td>8.520376</td>\n",
       "      <td>1.021944</td>\n",
       "      <td>1011.0</td>\n",
       "      <td>3.169279</td>\n",
       "      <td>32.99</td>\n",
       "      <td>-117.23</td>\n",
       "      <td>5.00001</td>\n",
       "    </tr>\n",
       "    <tr>\n",
       "      <th>15693</th>\n",
       "      <td>15.0001</td>\n",
       "      <td>52.0</td>\n",
       "      <td>7.994475</td>\n",
       "      <td>1.027624</td>\n",
       "      <td>483.0</td>\n",
       "      <td>2.668508</td>\n",
       "      <td>37.79</td>\n",
       "      <td>-122.44</td>\n",
       "      <td>5.00001</td>\n",
       "    </tr>\n",
       "    <tr>\n",
       "      <th>1566</th>\n",
       "      <td>15.0001</td>\n",
       "      <td>2.0</td>\n",
       "      <td>22.222222</td>\n",
       "      <td>2.222222</td>\n",
       "      <td>25.0</td>\n",
       "      <td>2.777778</td>\n",
       "      <td>37.74</td>\n",
       "      <td>-121.96</td>\n",
       "      <td>3.50000</td>\n",
       "    </tr>\n",
       "    <tr>\n",
       "      <th>16171</th>\n",
       "      <td>15.0001</td>\n",
       "      <td>52.0</td>\n",
       "      <td>8.000000</td>\n",
       "      <td>1.000000</td>\n",
       "      <td>13.0</td>\n",
       "      <td>13.000000</td>\n",
       "      <td>37.79</td>\n",
       "      <td>-122.50</td>\n",
       "      <td>5.00001</td>\n",
       "    </tr>\n",
       "    <tr>\n",
       "      <th>16910</th>\n",
       "      <td>15.0001</td>\n",
       "      <td>32.0</td>\n",
       "      <td>9.166341</td>\n",
       "      <td>1.056751</td>\n",
       "      <td>1512.0</td>\n",
       "      <td>2.958904</td>\n",
       "      <td>37.56</td>\n",
       "      <td>-122.36</td>\n",
       "      <td>5.00001</td>\n",
       "    </tr>\n",
       "    <tr>\n",
       "      <th>17107</th>\n",
       "      <td>15.0001</td>\n",
       "      <td>31.0</td>\n",
       "      <td>9.425101</td>\n",
       "      <td>1.093117</td>\n",
       "      <td>722.0</td>\n",
       "      <td>2.923077</td>\n",
       "      <td>37.44</td>\n",
       "      <td>-122.20</td>\n",
       "      <td>5.00001</td>\n",
       "    </tr>\n",
       "    <tr>\n",
       "      <th>17108</th>\n",
       "      <td>15.0001</td>\n",
       "      <td>32.0</td>\n",
       "      <td>8.845041</td>\n",
       "      <td>1.035124</td>\n",
       "      <td>1318.0</td>\n",
       "      <td>2.723140</td>\n",
       "      <td>37.44</td>\n",
       "      <td>-122.22</td>\n",
       "      <td>5.00001</td>\n",
       "    </tr>\n",
       "    <tr>\n",
       "      <th>17110</th>\n",
       "      <td>15.0001</td>\n",
       "      <td>40.0</td>\n",
       "      <td>8.584541</td>\n",
       "      <td>1.000000</td>\n",
       "      <td>577.0</td>\n",
       "      <td>2.787440</td>\n",
       "      <td>37.46</td>\n",
       "      <td>-122.21</td>\n",
       "      <td>5.00001</td>\n",
       "    </tr>\n",
       "    <tr>\n",
       "      <th>17111</th>\n",
       "      <td>15.0001</td>\n",
       "      <td>40.0</td>\n",
       "      <td>9.802326</td>\n",
       "      <td>1.135659</td>\n",
       "      <td>831.0</td>\n",
       "      <td>3.220930</td>\n",
       "      <td>37.46</td>\n",
       "      <td>-122.18</td>\n",
       "      <td>5.00001</td>\n",
       "    </tr>\n",
       "    <tr>\n",
       "      <th>17118</th>\n",
       "      <td>15.0001</td>\n",
       "      <td>46.0</td>\n",
       "      <td>6.000000</td>\n",
       "      <td>0.800000</td>\n",
       "      <td>13.0</td>\n",
       "      <td>2.600000</td>\n",
       "      <td>37.50</td>\n",
       "      <td>-122.14</td>\n",
       "      <td>5.00001</td>\n",
       "    </tr>\n",
       "    <tr>\n",
       "      <th>17166</th>\n",
       "      <td>15.0001</td>\n",
       "      <td>32.0</td>\n",
       "      <td>8.116608</td>\n",
       "      <td>1.014134</td>\n",
       "      <td>814.0</td>\n",
       "      <td>2.876325</td>\n",
       "      <td>37.40</td>\n",
       "      <td>-122.22</td>\n",
       "      <td>5.00001</td>\n",
       "    </tr>\n",
       "    <tr>\n",
       "      <th>17170</th>\n",
       "      <td>15.0001</td>\n",
       "      <td>33.0</td>\n",
       "      <td>7.446512</td>\n",
       "      <td>1.037209</td>\n",
       "      <td>629.0</td>\n",
       "      <td>2.925581</td>\n",
       "      <td>37.43</td>\n",
       "      <td>-122.27</td>\n",
       "      <td>5.00001</td>\n",
       "    </tr>\n",
       "    <tr>\n",
       "      <th>17858</th>\n",
       "      <td>15.0001</td>\n",
       "      <td>43.0</td>\n",
       "      <td>5.687500</td>\n",
       "      <td>0.750000</td>\n",
       "      <td>58.0</td>\n",
       "      <td>3.625000</td>\n",
       "      <td>37.46</td>\n",
       "      <td>-121.87</td>\n",
       "      <td>5.00001</td>\n",
       "    </tr>\n",
       "    <tr>\n",
       "      <th>8852</th>\n",
       "      <td>15.0001</td>\n",
       "      <td>48.0</td>\n",
       "      <td>9.729839</td>\n",
       "      <td>1.052419</td>\n",
       "      <td>770.0</td>\n",
       "      <td>3.104839</td>\n",
       "      <td>34.08</td>\n",
       "      <td>-118.42</td>\n",
       "      <td>5.00001</td>\n",
       "    </tr>\n",
       "    <tr>\n",
       "      <th>8851</th>\n",
       "      <td>15.0001</td>\n",
       "      <td>40.0</td>\n",
       "      <td>9.600000</td>\n",
       "      <td>1.059459</td>\n",
       "      <td>1024.0</td>\n",
       "      <td>2.767568</td>\n",
       "      <td>34.09</td>\n",
       "      <td>-118.42</td>\n",
       "      <td>5.00001</td>\n",
       "    </tr>\n",
       "    <tr>\n",
       "      <th>8850</th>\n",
       "      <td>15.0001</td>\n",
       "      <td>37.0</td>\n",
       "      <td>9.333333</td>\n",
       "      <td>1.037801</td>\n",
       "      <td>809.0</td>\n",
       "      <td>2.780069</td>\n",
       "      <td>34.09</td>\n",
       "      <td>-118.41</td>\n",
       "      <td>5.00001</td>\n",
       "    </tr>\n",
       "    <tr>\n",
       "      <th>8849</th>\n",
       "      <td>15.0001</td>\n",
       "      <td>52.0</td>\n",
       "      <td>9.237288</td>\n",
       "      <td>1.062954</td>\n",
       "      <td>1266.0</td>\n",
       "      <td>3.065375</td>\n",
       "      <td>34.08</td>\n",
       "      <td>-118.40</td>\n",
       "      <td>5.00001</td>\n",
       "    </tr>\n",
       "    <tr>\n",
       "      <th>4352</th>\n",
       "      <td>15.0001</td>\n",
       "      <td>37.0</td>\n",
       "      <td>8.659574</td>\n",
       "      <td>1.425532</td>\n",
       "      <td>100.0</td>\n",
       "      <td>2.127660</td>\n",
       "      <td>34.10</td>\n",
       "      <td>-118.37</td>\n",
       "      <td>5.00001</td>\n",
       "    </tr>\n",
       "    <tr>\n",
       "      <th>4604</th>\n",
       "      <td>15.0001</td>\n",
       "      <td>52.0</td>\n",
       "      <td>8.444954</td>\n",
       "      <td>1.100917</td>\n",
       "      <td>693.0</td>\n",
       "      <td>3.178899</td>\n",
       "      <td>34.06</td>\n",
       "      <td>-118.33</td>\n",
       "      <td>5.00001</td>\n",
       "    </tr>\n",
       "    <tr>\n",
       "      <th>4605</th>\n",
       "      <td>15.0001</td>\n",
       "      <td>52.0</td>\n",
       "      <td>8.483019</td>\n",
       "      <td>0.962264</td>\n",
       "      <td>813.0</td>\n",
       "      <td>3.067925</td>\n",
       "      <td>34.07</td>\n",
       "      <td>-118.33</td>\n",
       "      <td>5.00001</td>\n",
       "    </tr>\n",
       "    <tr>\n",
       "      <th>4606</th>\n",
       "      <td>15.0001</td>\n",
       "      <td>52.0</td>\n",
       "      <td>9.204969</td>\n",
       "      <td>1.062112</td>\n",
       "      <td>531.0</td>\n",
       "      <td>3.298137</td>\n",
       "      <td>34.07</td>\n",
       "      <td>-118.33</td>\n",
       "      <td>5.00001</td>\n",
       "    </tr>\n",
       "    <tr>\n",
       "      <th>4626</th>\n",
       "      <td>15.0001</td>\n",
       "      <td>52.0</td>\n",
       "      <td>7.958333</td>\n",
       "      <td>0.833333</td>\n",
       "      <td>457.0</td>\n",
       "      <td>3.808333</td>\n",
       "      <td>34.06</td>\n",
       "      <td>-118.32</td>\n",
       "      <td>5.00001</td>\n",
       "    </tr>\n",
       "    <tr>\n",
       "      <th>4678</th>\n",
       "      <td>15.0001</td>\n",
       "      <td>52.0</td>\n",
       "      <td>8.780612</td>\n",
       "      <td>0.994898</td>\n",
       "      <td>688.0</td>\n",
       "      <td>3.510204</td>\n",
       "      <td>34.08</td>\n",
       "      <td>-118.34</td>\n",
       "      <td>5.00001</td>\n",
       "    </tr>\n",
       "    <tr>\n",
       "      <th>5242</th>\n",
       "      <td>15.0001</td>\n",
       "      <td>32.0</td>\n",
       "      <td>8.002869</td>\n",
       "      <td>1.080344</td>\n",
       "      <td>1567.0</td>\n",
       "      <td>2.248207</td>\n",
       "      <td>34.11</td>\n",
       "      <td>-118.40</td>\n",
       "      <td>5.00001</td>\n",
       "    </tr>\n",
       "    <tr>\n",
       "      <th>5247</th>\n",
       "      <td>15.0001</td>\n",
       "      <td>36.0</td>\n",
       "      <td>9.368263</td>\n",
       "      <td>1.173653</td>\n",
       "      <td>862.0</td>\n",
       "      <td>2.580838</td>\n",
       "      <td>34.09</td>\n",
       "      <td>-118.44</td>\n",
       "      <td>5.00001</td>\n",
       "    </tr>\n",
       "    <tr>\n",
       "      <th>5248</th>\n",
       "      <td>15.0001</td>\n",
       "      <td>46.0</td>\n",
       "      <td>8.365591</td>\n",
       "      <td>0.967742</td>\n",
       "      <td>238.0</td>\n",
       "      <td>2.559140</td>\n",
       "      <td>34.08</td>\n",
       "      <td>-118.43</td>\n",
       "      <td>5.00001</td>\n",
       "    </tr>\n",
       "    <tr>\n",
       "      <th>5257</th>\n",
       "      <td>15.0001</td>\n",
       "      <td>42.0</td>\n",
       "      <td>9.229032</td>\n",
       "      <td>1.161290</td>\n",
       "      <td>829.0</td>\n",
       "      <td>2.674194</td>\n",
       "      <td>34.06</td>\n",
       "      <td>-118.49</td>\n",
       "      <td>5.00001</td>\n",
       "    </tr>\n",
       "    <tr>\n",
       "      <th>5275</th>\n",
       "      <td>15.0001</td>\n",
       "      <td>36.0</td>\n",
       "      <td>7.549091</td>\n",
       "      <td>0.985455</td>\n",
       "      <td>1461.0</td>\n",
       "      <td>2.656364</td>\n",
       "      <td>34.05</td>\n",
       "      <td>-118.50</td>\n",
       "      <td>5.00001</td>\n",
       "    </tr>\n",
       "    <tr>\n",
       "      <th>18501</th>\n",
       "      <td>15.0001</td>\n",
       "      <td>52.0</td>\n",
       "      <td>8.461538</td>\n",
       "      <td>1.230769</td>\n",
       "      <td>55.0</td>\n",
       "      <td>2.115385</td>\n",
       "      <td>37.19</td>\n",
       "      <td>-121.59</td>\n",
       "      <td>1.31300</td>\n",
       "    </tr>\n",
       "    <tr>\n",
       "      <th>5281</th>\n",
       "      <td>15.0001</td>\n",
       "      <td>42.0</td>\n",
       "      <td>8.562500</td>\n",
       "      <td>0.964286</td>\n",
       "      <td>632.0</td>\n",
       "      <td>2.821429</td>\n",
       "      <td>34.05</td>\n",
       "      <td>-118.49</td>\n",
       "      <td>5.00001</td>\n",
       "    </tr>\n",
       "    <tr>\n",
       "      <th>6391</th>\n",
       "      <td>15.0001</td>\n",
       "      <td>37.0</td>\n",
       "      <td>8.761062</td>\n",
       "      <td>1.000000</td>\n",
       "      <td>697.0</td>\n",
       "      <td>3.084071</td>\n",
       "      <td>34.15</td>\n",
       "      <td>-118.06</td>\n",
       "      <td>5.00001</td>\n",
       "    </tr>\n",
       "    <tr>\n",
       "      <th>6399</th>\n",
       "      <td>15.0001</td>\n",
       "      <td>35.0</td>\n",
       "      <td>8.586207</td>\n",
       "      <td>1.068966</td>\n",
       "      <td>268.0</td>\n",
       "      <td>9.241379</td>\n",
       "      <td>34.13</td>\n",
       "      <td>-118.04</td>\n",
       "      <td>5.00001</td>\n",
       "    </tr>\n",
       "    <tr>\n",
       "      <th>6590</th>\n",
       "      <td>15.0001</td>\n",
       "      <td>48.0</td>\n",
       "      <td>8.845161</td>\n",
       "      <td>1.058065</td>\n",
       "      <td>528.0</td>\n",
       "      <td>3.406452</td>\n",
       "      <td>34.19</td>\n",
       "      <td>-118.18</td>\n",
       "      <td>5.00001</td>\n",
       "    </tr>\n",
       "    <tr>\n",
       "      <th>6591</th>\n",
       "      <td>15.0001</td>\n",
       "      <td>34.0</td>\n",
       "      <td>8.114173</td>\n",
       "      <td>1.023622</td>\n",
       "      <td>825.0</td>\n",
       "      <td>3.248031</td>\n",
       "      <td>34.19</td>\n",
       "      <td>-118.19</td>\n",
       "      <td>5.00001</td>\n",
       "    </tr>\n",
       "    <tr>\n",
       "      <th>6592</th>\n",
       "      <td>15.0001</td>\n",
       "      <td>38.0</td>\n",
       "      <td>8.954733</td>\n",
       "      <td>1.094650</td>\n",
       "      <td>798.0</td>\n",
       "      <td>3.283951</td>\n",
       "      <td>34.19</td>\n",
       "      <td>-118.20</td>\n",
       "      <td>5.00001</td>\n",
       "    </tr>\n",
       "    <tr>\n",
       "      <th>6727</th>\n",
       "      <td>15.0001</td>\n",
       "      <td>52.0</td>\n",
       "      <td>10.419355</td>\n",
       "      <td>1.136201</td>\n",
       "      <td>956.0</td>\n",
       "      <td>3.426523</td>\n",
       "      <td>34.12</td>\n",
       "      <td>-118.12</td>\n",
       "      <td>5.00001</td>\n",
       "    </tr>\n",
       "    <tr>\n",
       "      <th>6736</th>\n",
       "      <td>15.0001</td>\n",
       "      <td>47.0</td>\n",
       "      <td>8.592308</td>\n",
       "      <td>1.061538</td>\n",
       "      <td>749.0</td>\n",
       "      <td>2.880769</td>\n",
       "      <td>34.13</td>\n",
       "      <td>-118.10</td>\n",
       "      <td>5.00001</td>\n",
       "    </tr>\n",
       "    <tr>\n",
       "      <th>8805</th>\n",
       "      <td>15.0001</td>\n",
       "      <td>34.0</td>\n",
       "      <td>8.783019</td>\n",
       "      <td>1.059748</td>\n",
       "      <td>1871.0</td>\n",
       "      <td>2.941824</td>\n",
       "      <td>33.76</td>\n",
       "      <td>-118.34</td>\n",
       "      <td>5.00001</td>\n",
       "    </tr>\n",
       "    <tr>\n",
       "      <th>8846</th>\n",
       "      <td>15.0001</td>\n",
       "      <td>27.0</td>\n",
       "      <td>7.651923</td>\n",
       "      <td>0.980769</td>\n",
       "      <td>1351.0</td>\n",
       "      <td>2.598077</td>\n",
       "      <td>34.10</td>\n",
       "      <td>-118.40</td>\n",
       "      <td>5.00001</td>\n",
       "    </tr>\n",
       "    <tr>\n",
       "      <th>8847</th>\n",
       "      <td>15.0001</td>\n",
       "      <td>45.0</td>\n",
       "      <td>10.370656</td>\n",
       "      <td>1.092664</td>\n",
       "      <td>857.0</td>\n",
       "      <td>3.308880</td>\n",
       "      <td>34.09</td>\n",
       "      <td>-118.40</td>\n",
       "      <td>5.00001</td>\n",
       "    </tr>\n",
       "    <tr>\n",
       "      <th>8848</th>\n",
       "      <td>15.0001</td>\n",
       "      <td>52.0</td>\n",
       "      <td>8.907583</td>\n",
       "      <td>1.099526</td>\n",
       "      <td>1407.0</td>\n",
       "      <td>3.334123</td>\n",
       "      <td>34.08</td>\n",
       "      <td>-118.39</td>\n",
       "      <td>5.00001</td>\n",
       "    </tr>\n",
       "    <tr>\n",
       "      <th>5291</th>\n",
       "      <td>15.0001</td>\n",
       "      <td>46.0</td>\n",
       "      <td>9.203947</td>\n",
       "      <td>0.973684</td>\n",
       "      <td>410.0</td>\n",
       "      <td>2.697368</td>\n",
       "      <td>34.08</td>\n",
       "      <td>-118.42</td>\n",
       "      <td>5.00001</td>\n",
       "    </tr>\n",
       "    <tr>\n",
       "      <th>18504</th>\n",
       "      <td>15.0001</td>\n",
       "      <td>26.0</td>\n",
       "      <td>12.500000</td>\n",
       "      <td>1.250000</td>\n",
       "      <td>17.0</td>\n",
       "      <td>4.250000</td>\n",
       "      <td>37.13</td>\n",
       "      <td>-121.96</td>\n",
       "      <td>4.00000</td>\n",
       "    </tr>\n",
       "  </tbody>\n",
       "</table>\n",
       "</div>"
      ],
      "text/plain": [
       "        MedInc  HouseAge   AveRooms  AveBedrms  Population   AveOccup  \\\n",
       "5304   14.2867      49.0   7.603774   0.946541       850.0   2.672956   \n",
       "15698  14.2959      52.0   8.172727   0.872727       304.0   2.763636   \n",
       "9811   14.4113      28.0  11.634686   1.509225       569.0   2.099631   \n",
       "16915  14.4219      52.0   8.253731   0.950249       519.0   2.582090   \n",
       "9370   14.5833      24.0   5.613333   0.853333       163.0   2.173333   \n",
       "10483  14.9009       8.0   9.860169   1.114407       899.0   3.809322   \n",
       "18052  15.0000      19.0   7.626263   0.939394       267.0   2.696970   \n",
       "5260   15.0000      39.0   9.293750   1.018750       414.0   2.587500   \n",
       "8853   15.0001      52.0   9.867036   1.091413      1163.0   3.221607   \n",
       "8854   15.0001      52.0   8.710145   1.028986       408.0   2.956522   \n",
       "8878   15.0001      52.0   8.000000   0.997333      1143.0   3.048000   \n",
       "10673  15.0001      13.0   7.842900   0.993958      1865.0   2.817221   \n",
       "10760  15.0001      15.0   8.062044   1.003650       735.0   2.682482   \n",
       "11520  15.0001      14.0   8.354232   1.037618       964.0   3.021944   \n",
       "15241  15.0001      17.0   8.520376   1.021944      1011.0   3.169279   \n",
       "15693  15.0001      52.0   7.994475   1.027624       483.0   2.668508   \n",
       "1566   15.0001       2.0  22.222222   2.222222        25.0   2.777778   \n",
       "16171  15.0001      52.0   8.000000   1.000000        13.0  13.000000   \n",
       "16910  15.0001      32.0   9.166341   1.056751      1512.0   2.958904   \n",
       "17107  15.0001      31.0   9.425101   1.093117       722.0   2.923077   \n",
       "17108  15.0001      32.0   8.845041   1.035124      1318.0   2.723140   \n",
       "17110  15.0001      40.0   8.584541   1.000000       577.0   2.787440   \n",
       "17111  15.0001      40.0   9.802326   1.135659       831.0   3.220930   \n",
       "17118  15.0001      46.0   6.000000   0.800000        13.0   2.600000   \n",
       "17166  15.0001      32.0   8.116608   1.014134       814.0   2.876325   \n",
       "17170  15.0001      33.0   7.446512   1.037209       629.0   2.925581   \n",
       "17858  15.0001      43.0   5.687500   0.750000        58.0   3.625000   \n",
       "8852   15.0001      48.0   9.729839   1.052419       770.0   3.104839   \n",
       "8851   15.0001      40.0   9.600000   1.059459      1024.0   2.767568   \n",
       "8850   15.0001      37.0   9.333333   1.037801       809.0   2.780069   \n",
       "8849   15.0001      52.0   9.237288   1.062954      1266.0   3.065375   \n",
       "4352   15.0001      37.0   8.659574   1.425532       100.0   2.127660   \n",
       "4604   15.0001      52.0   8.444954   1.100917       693.0   3.178899   \n",
       "4605   15.0001      52.0   8.483019   0.962264       813.0   3.067925   \n",
       "4606   15.0001      52.0   9.204969   1.062112       531.0   3.298137   \n",
       "4626   15.0001      52.0   7.958333   0.833333       457.0   3.808333   \n",
       "4678   15.0001      52.0   8.780612   0.994898       688.0   3.510204   \n",
       "5242   15.0001      32.0   8.002869   1.080344      1567.0   2.248207   \n",
       "5247   15.0001      36.0   9.368263   1.173653       862.0   2.580838   \n",
       "5248   15.0001      46.0   8.365591   0.967742       238.0   2.559140   \n",
       "5257   15.0001      42.0   9.229032   1.161290       829.0   2.674194   \n",
       "5275   15.0001      36.0   7.549091   0.985455      1461.0   2.656364   \n",
       "18501  15.0001      52.0   8.461538   1.230769        55.0   2.115385   \n",
       "5281   15.0001      42.0   8.562500   0.964286       632.0   2.821429   \n",
       "6391   15.0001      37.0   8.761062   1.000000       697.0   3.084071   \n",
       "6399   15.0001      35.0   8.586207   1.068966       268.0   9.241379   \n",
       "6590   15.0001      48.0   8.845161   1.058065       528.0   3.406452   \n",
       "6591   15.0001      34.0   8.114173   1.023622       825.0   3.248031   \n",
       "6592   15.0001      38.0   8.954733   1.094650       798.0   3.283951   \n",
       "6727   15.0001      52.0  10.419355   1.136201       956.0   3.426523   \n",
       "6736   15.0001      47.0   8.592308   1.061538       749.0   2.880769   \n",
       "8805   15.0001      34.0   8.783019   1.059748      1871.0   2.941824   \n",
       "8846   15.0001      27.0   7.651923   0.980769      1351.0   2.598077   \n",
       "8847   15.0001      45.0  10.370656   1.092664       857.0   3.308880   \n",
       "8848   15.0001      52.0   8.907583   1.099526      1407.0   3.334123   \n",
       "5291   15.0001      46.0   9.203947   0.973684       410.0   2.697368   \n",
       "18504  15.0001      26.0  12.500000   1.250000        17.0   4.250000   \n",
       "\n",
       "       Latitude  Longitude  MedHouseVal  \n",
       "5304      34.07    -118.46      5.00001  \n",
       "15698     37.79    -122.46      5.00001  \n",
       "9811      36.57    -121.94      5.00001  \n",
       "16915     37.56    -122.35      5.00001  \n",
       "9370      37.92    -122.52      5.00001  \n",
       "10483     33.59    -117.68      5.00001  \n",
       "18052     37.25    -121.98      5.00001  \n",
       "5260      34.05    -118.50      5.00001  \n",
       "8853      34.07    -118.41      5.00001  \n",
       "8854      34.07    -118.41      5.00001  \n",
       "8878      34.04    -118.50      5.00001  \n",
       "10673     33.62    -117.85      5.00001  \n",
       "10760     33.62    -117.87      5.00001  \n",
       "11520     33.72    -118.06      5.00001  \n",
       "15241     32.99    -117.23      5.00001  \n",
       "15693     37.79    -122.44      5.00001  \n",
       "1566      37.74    -121.96      3.50000  \n",
       "16171     37.79    -122.50      5.00001  \n",
       "16910     37.56    -122.36      5.00001  \n",
       "17107     37.44    -122.20      5.00001  \n",
       "17108     37.44    -122.22      5.00001  \n",
       "17110     37.46    -122.21      5.00001  \n",
       "17111     37.46    -122.18      5.00001  \n",
       "17118     37.50    -122.14      5.00001  \n",
       "17166     37.40    -122.22      5.00001  \n",
       "17170     37.43    -122.27      5.00001  \n",
       "17858     37.46    -121.87      5.00001  \n",
       "8852      34.08    -118.42      5.00001  \n",
       "8851      34.09    -118.42      5.00001  \n",
       "8850      34.09    -118.41      5.00001  \n",
       "8849      34.08    -118.40      5.00001  \n",
       "4352      34.10    -118.37      5.00001  \n",
       "4604      34.06    -118.33      5.00001  \n",
       "4605      34.07    -118.33      5.00001  \n",
       "4606      34.07    -118.33      5.00001  \n",
       "4626      34.06    -118.32      5.00001  \n",
       "4678      34.08    -118.34      5.00001  \n",
       "5242      34.11    -118.40      5.00001  \n",
       "5247      34.09    -118.44      5.00001  \n",
       "5248      34.08    -118.43      5.00001  \n",
       "5257      34.06    -118.49      5.00001  \n",
       "5275      34.05    -118.50      5.00001  \n",
       "18501     37.19    -121.59      1.31300  \n",
       "5281      34.05    -118.49      5.00001  \n",
       "6391      34.15    -118.06      5.00001  \n",
       "6399      34.13    -118.04      5.00001  \n",
       "6590      34.19    -118.18      5.00001  \n",
       "6591      34.19    -118.19      5.00001  \n",
       "6592      34.19    -118.20      5.00001  \n",
       "6727      34.12    -118.12      5.00001  \n",
       "6736      34.13    -118.10      5.00001  \n",
       "8805      33.76    -118.34      5.00001  \n",
       "8846      34.10    -118.40      5.00001  \n",
       "8847      34.09    -118.40      5.00001  \n",
       "8848      34.08    -118.39      5.00001  \n",
       "5291      34.08    -118.42      5.00001  \n",
       "18504     37.13    -121.96      4.00000  "
      ]
     },
     "execution_count": 21,
     "metadata": {},
     "output_type": "execute_result"
    }
   ],
   "source": [
    "house_prices[house_prices.MedInc > 14].sort_values(\"MedInc\")"
   ]
  },
  {
   "cell_type": "markdown",
   "id": "937e6e5a-03fe-4178-9c5b-f3c80b5da74a",
   "metadata": {},
   "source": [
    "Имаме ли повторения?"
   ]
  },
  {
   "cell_type": "code",
   "execution_count": 22,
   "id": "21aaf659-8fe0-4a93-8a02-aa15dd53c957",
   "metadata": {},
   "outputs": [
    {
     "data": {
      "text/plain": [
       "(20640, 9)"
      ]
     },
     "execution_count": 22,
     "metadata": {},
     "output_type": "execute_result"
    }
   ],
   "source": [
    "house_prices.drop_duplicates().shape"
   ]
  },
  {
   "cell_type": "markdown",
   "id": "d4626eaf-12b2-4766-80be-16f60ed93bde",
   "metadata": {},
   "source": [
    "Не, спрямо всичките данни нямаме повторения."
   ]
  },
  {
   "cell_type": "code",
   "execution_count": 23,
   "id": "fc1de546-8395-46f0-bfc9-6dea82df04a1",
   "metadata": {},
   "outputs": [
    {
     "data": {
      "text/html": [
       "<div>\n",
       "<style scoped>\n",
       "    .dataframe tbody tr th:only-of-type {\n",
       "        vertical-align: middle;\n",
       "    }\n",
       "\n",
       "    .dataframe tbody tr th {\n",
       "        vertical-align: top;\n",
       "    }\n",
       "\n",
       "    .dataframe thead th {\n",
       "        text-align: right;\n",
       "    }\n",
       "</style>\n",
       "<table border=\"1\" class=\"dataframe\">\n",
       "  <thead>\n",
       "    <tr style=\"text-align: right;\">\n",
       "      <th></th>\n",
       "      <th>MedInc</th>\n",
       "      <th>HouseAge</th>\n",
       "      <th>AveRooms</th>\n",
       "      <th>AveBedrms</th>\n",
       "      <th>Population</th>\n",
       "      <th>AveOccup</th>\n",
       "      <th>Latitude</th>\n",
       "      <th>Longitude</th>\n",
       "      <th>MedHouseVal</th>\n",
       "    </tr>\n",
       "  </thead>\n",
       "  <tbody>\n",
       "    <tr>\n",
       "      <th>MedInc</th>\n",
       "      <td>1.000000</td>\n",
       "      <td>-0.119034</td>\n",
       "      <td>0.326895</td>\n",
       "      <td>-0.062040</td>\n",
       "      <td>0.004834</td>\n",
       "      <td>0.018766</td>\n",
       "      <td>-0.079809</td>\n",
       "      <td>-0.015176</td>\n",
       "      <td>0.688075</td>\n",
       "    </tr>\n",
       "    <tr>\n",
       "      <th>HouseAge</th>\n",
       "      <td>-0.119034</td>\n",
       "      <td>1.000000</td>\n",
       "      <td>-0.153277</td>\n",
       "      <td>-0.077747</td>\n",
       "      <td>-0.296244</td>\n",
       "      <td>0.013191</td>\n",
       "      <td>0.011173</td>\n",
       "      <td>-0.108197</td>\n",
       "      <td>0.105623</td>\n",
       "    </tr>\n",
       "    <tr>\n",
       "      <th>AveRooms</th>\n",
       "      <td>0.326895</td>\n",
       "      <td>-0.153277</td>\n",
       "      <td>1.000000</td>\n",
       "      <td>0.847621</td>\n",
       "      <td>-0.072213</td>\n",
       "      <td>-0.004852</td>\n",
       "      <td>0.106389</td>\n",
       "      <td>-0.027540</td>\n",
       "      <td>0.151948</td>\n",
       "    </tr>\n",
       "    <tr>\n",
       "      <th>AveBedrms</th>\n",
       "      <td>-0.062040</td>\n",
       "      <td>-0.077747</td>\n",
       "      <td>0.847621</td>\n",
       "      <td>1.000000</td>\n",
       "      <td>-0.066197</td>\n",
       "      <td>-0.006181</td>\n",
       "      <td>0.069721</td>\n",
       "      <td>0.013344</td>\n",
       "      <td>-0.046701</td>\n",
       "    </tr>\n",
       "    <tr>\n",
       "      <th>Population</th>\n",
       "      <td>0.004834</td>\n",
       "      <td>-0.296244</td>\n",
       "      <td>-0.072213</td>\n",
       "      <td>-0.066197</td>\n",
       "      <td>1.000000</td>\n",
       "      <td>0.069863</td>\n",
       "      <td>-0.108785</td>\n",
       "      <td>0.099773</td>\n",
       "      <td>-0.024650</td>\n",
       "    </tr>\n",
       "    <tr>\n",
       "      <th>AveOccup</th>\n",
       "      <td>0.018766</td>\n",
       "      <td>0.013191</td>\n",
       "      <td>-0.004852</td>\n",
       "      <td>-0.006181</td>\n",
       "      <td>0.069863</td>\n",
       "      <td>1.000000</td>\n",
       "      <td>0.002366</td>\n",
       "      <td>0.002476</td>\n",
       "      <td>-0.023737</td>\n",
       "    </tr>\n",
       "    <tr>\n",
       "      <th>Latitude</th>\n",
       "      <td>-0.079809</td>\n",
       "      <td>0.011173</td>\n",
       "      <td>0.106389</td>\n",
       "      <td>0.069721</td>\n",
       "      <td>-0.108785</td>\n",
       "      <td>0.002366</td>\n",
       "      <td>1.000000</td>\n",
       "      <td>-0.924664</td>\n",
       "      <td>-0.144160</td>\n",
       "    </tr>\n",
       "    <tr>\n",
       "      <th>Longitude</th>\n",
       "      <td>-0.015176</td>\n",
       "      <td>-0.108197</td>\n",
       "      <td>-0.027540</td>\n",
       "      <td>0.013344</td>\n",
       "      <td>0.099773</td>\n",
       "      <td>0.002476</td>\n",
       "      <td>-0.924664</td>\n",
       "      <td>1.000000</td>\n",
       "      <td>-0.045967</td>\n",
       "    </tr>\n",
       "    <tr>\n",
       "      <th>MedHouseVal</th>\n",
       "      <td>0.688075</td>\n",
       "      <td>0.105623</td>\n",
       "      <td>0.151948</td>\n",
       "      <td>-0.046701</td>\n",
       "      <td>-0.024650</td>\n",
       "      <td>-0.023737</td>\n",
       "      <td>-0.144160</td>\n",
       "      <td>-0.045967</td>\n",
       "      <td>1.000000</td>\n",
       "    </tr>\n",
       "  </tbody>\n",
       "</table>\n",
       "</div>"
      ],
      "text/plain": [
       "               MedInc  HouseAge  AveRooms  AveBedrms  Population  AveOccup  \\\n",
       "MedInc       1.000000 -0.119034  0.326895  -0.062040    0.004834  0.018766   \n",
       "HouseAge    -0.119034  1.000000 -0.153277  -0.077747   -0.296244  0.013191   \n",
       "AveRooms     0.326895 -0.153277  1.000000   0.847621   -0.072213 -0.004852   \n",
       "AveBedrms   -0.062040 -0.077747  0.847621   1.000000   -0.066197 -0.006181   \n",
       "Population   0.004834 -0.296244 -0.072213  -0.066197    1.000000  0.069863   \n",
       "AveOccup     0.018766  0.013191 -0.004852  -0.006181    0.069863  1.000000   \n",
       "Latitude    -0.079809  0.011173  0.106389   0.069721   -0.108785  0.002366   \n",
       "Longitude   -0.015176 -0.108197 -0.027540   0.013344    0.099773  0.002476   \n",
       "MedHouseVal  0.688075  0.105623  0.151948  -0.046701   -0.024650 -0.023737   \n",
       "\n",
       "             Latitude  Longitude  MedHouseVal  \n",
       "MedInc      -0.079809  -0.015176     0.688075  \n",
       "HouseAge     0.011173  -0.108197     0.105623  \n",
       "AveRooms     0.106389  -0.027540     0.151948  \n",
       "AveBedrms    0.069721   0.013344    -0.046701  \n",
       "Population  -0.108785   0.099773    -0.024650  \n",
       "AveOccup     0.002366   0.002476    -0.023737  \n",
       "Latitude     1.000000  -0.924664    -0.144160  \n",
       "Longitude   -0.924664   1.000000    -0.045967  \n",
       "MedHouseVal -0.144160  -0.045967     1.000000  "
      ]
     },
     "execution_count": 23,
     "metadata": {},
     "output_type": "execute_result"
    }
   ],
   "source": [
    "house_prices.corr()"
   ]
  },
  {
   "cell_type": "code",
   "execution_count": 27,
   "id": "3d67934d-6ad7-431a-89b7-806c7834d584",
   "metadata": {},
   "outputs": [
    {
     "data": {
      "image/png": "[encoded data removed]",
      "text/plain": [
       "<Figure size 432x288 with 1 Axes>"
      ]
     },
     "metadata": {
      "needs_background": "light"
     },
     "output_type": "display_data"
    }
   ],
   "source": [
    "plt.hist(house_prices.HouseAge, bins = 20)\n",
    "plt.show()"
   ]
  },
  {
   "cell_type": "code",
   "execution_count": 26,
   "id": "7d3895c1-201c-47d5-934d-19b7cd8986a0",
   "metadata": {},
   "outputs": [
    {
     "data": {
      "text/plain": [
       "52.0    1273\n",
       "36.0     862\n",
       "35.0     824\n",
       "16.0     771\n",
       "17.0     698\n",
       "34.0     689\n",
       "26.0     619\n",
       "33.0     615\n",
       "18.0     570\n",
       "25.0     566\n",
       "32.0     565\n",
       "37.0     537\n",
       "15.0     512\n",
       "19.0     502\n",
       "27.0     488\n",
       "24.0     478\n",
       "30.0     476\n",
       "28.0     471\n",
       "20.0     465\n",
       "29.0     461\n",
       "31.0     458\n",
       "23.0     448\n",
       "21.0     446\n",
       "14.0     412\n",
       "22.0     399\n",
       "38.0     394\n",
       "39.0     369\n",
       "42.0     368\n",
       "44.0     356\n",
       "43.0     353\n",
       "40.0     304\n",
       "13.0     302\n",
       "41.0     296\n",
       "45.0     294\n",
       "10.0     264\n",
       "11.0     254\n",
       "46.0     245\n",
       "5.0      244\n",
       "12.0     238\n",
       "8.0      206\n",
       "9.0      205\n",
       "47.0     198\n",
       "4.0      191\n",
       "48.0     177\n",
       "7.0      175\n",
       "6.0      160\n",
       "50.0     136\n",
       "49.0     134\n",
       "3.0       62\n",
       "2.0       58\n",
       "51.0      48\n",
       "1.0        4\n",
       "Name: HouseAge, dtype: int64"
      ]
     },
     "execution_count": 26,
     "metadata": {},
     "output_type": "execute_result"
    }
   ],
   "source": [
    "house_prices.HouseAge.value_counts()"
   ]
  },
  {
   "cell_type": "code",
   "execution_count": 32,
   "id": "c9956b50-2367-4661-8afd-d3b6d062643e",
   "metadata": {},
   "outputs": [
    {
     "data": {
      "image/png": "[encoded data removed]",
      "text/plain": [
       "<Figure size 432x288 with 1 Axes>"
      ]
     },
     "metadata": {
      "needs_background": "light"
     },
     "output_type": "display_data"
    }
   ],
   "source": [
    "plt.hist(np.log10(house_prices.AveOccup), bins = \"fd\")\n",
    "plt.show()"
   ]
  },
  {
   "cell_type": "code",
   "execution_count": 35,
   "id": "5ff11cb0-90e2-4706-901d-9e26428328d8",
   "metadata": {},
   "outputs": [
    {
     "data": {
      "text/html": [
       "<div>\n",
       "<style scoped>\n",
       "    .dataframe tbody tr th:only-of-type {\n",
       "        vertical-align: middle;\n",
       "    }\n",
       "\n",
       "    .dataframe tbody tr th {\n",
       "        vertical-align: top;\n",
       "    }\n",
       "\n",
       "    .dataframe thead th {\n",
       "        text-align: right;\n",
       "    }\n",
       "</style>\n",
       "<table border=\"1\" class=\"dataframe\">\n",
       "  <thead>\n",
       "    <tr style=\"text-align: right;\">\n",
       "      <th></th>\n",
       "      <th>MedInc</th>\n",
       "      <th>HouseAge</th>\n",
       "      <th>AveRooms</th>\n",
       "      <th>AveBedrms</th>\n",
       "      <th>Population</th>\n",
       "      <th>AveOccup</th>\n",
       "      <th>Latitude</th>\n",
       "      <th>Longitude</th>\n",
       "      <th>MedHouseVal</th>\n",
       "    </tr>\n",
       "  </thead>\n",
       "  <tbody>\n",
       "    <tr>\n",
       "      <th>13366</th>\n",
       "      <td>4.2578</td>\n",
       "      <td>36.0</td>\n",
       "      <td>5.258824</td>\n",
       "      <td>1.117647</td>\n",
       "      <td>2886.0</td>\n",
       "      <td>33.952941</td>\n",
       "      <td>33.94</td>\n",
       "      <td>-117.63</td>\n",
       "      <td>1.83300</td>\n",
       "    </tr>\n",
       "    <tr>\n",
       "      <th>8874</th>\n",
       "      <td>9.3370</td>\n",
       "      <td>52.0</td>\n",
       "      <td>7.285714</td>\n",
       "      <td>1.214286</td>\n",
       "      <td>1154.0</td>\n",
       "      <td>41.214286</td>\n",
       "      <td>34.06</td>\n",
       "      <td>-118.45</td>\n",
       "      <td>5.00001</td>\n",
       "    </tr>\n",
       "    <tr>\n",
       "      <th>16420</th>\n",
       "      <td>5.7485</td>\n",
       "      <td>26.0</td>\n",
       "      <td>5.366667</td>\n",
       "      <td>0.900000</td>\n",
       "      <td>1542.0</td>\n",
       "      <td>51.400000</td>\n",
       "      <td>37.89</td>\n",
       "      <td>-121.29</td>\n",
       "      <td>1.62500</td>\n",
       "    </tr>\n",
       "    <tr>\n",
       "      <th>12104</th>\n",
       "      <td>1.6250</td>\n",
       "      <td>8.0</td>\n",
       "      <td>7.600000</td>\n",
       "      <td>0.950000</td>\n",
       "      <td>1275.0</td>\n",
       "      <td>63.750000</td>\n",
       "      <td>33.97</td>\n",
       "      <td>-117.33</td>\n",
       "      <td>1.62500</td>\n",
       "    </tr>\n",
       "    <tr>\n",
       "      <th>9172</th>\n",
       "      <td>4.2391</td>\n",
       "      <td>5.0</td>\n",
       "      <td>5.123810</td>\n",
       "      <td>0.933333</td>\n",
       "      <td>8733.0</td>\n",
       "      <td>83.171429</td>\n",
       "      <td>34.47</td>\n",
       "      <td>-118.59</td>\n",
       "      <td>1.54600</td>\n",
       "    </tr>\n",
       "    <tr>\n",
       "      <th>13034</th>\n",
       "      <td>6.1359</td>\n",
       "      <td>52.0</td>\n",
       "      <td>8.275862</td>\n",
       "      <td>1.517241</td>\n",
       "      <td>6675.0</td>\n",
       "      <td>230.172414</td>\n",
       "      <td>38.69</td>\n",
       "      <td>-121.15</td>\n",
       "      <td>2.25000</td>\n",
       "    </tr>\n",
       "    <tr>\n",
       "      <th>16669</th>\n",
       "      <td>4.2639</td>\n",
       "      <td>46.0</td>\n",
       "      <td>9.076923</td>\n",
       "      <td>1.307692</td>\n",
       "      <td>6532.0</td>\n",
       "      <td>502.461538</td>\n",
       "      <td>35.32</td>\n",
       "      <td>-120.70</td>\n",
       "      <td>3.50000</td>\n",
       "    </tr>\n",
       "    <tr>\n",
       "      <th>3364</th>\n",
       "      <td>5.5179</td>\n",
       "      <td>36.0</td>\n",
       "      <td>5.142857</td>\n",
       "      <td>1.142857</td>\n",
       "      <td>4198.0</td>\n",
       "      <td>599.714286</td>\n",
       "      <td>40.41</td>\n",
       "      <td>-120.51</td>\n",
       "      <td>0.67500</td>\n",
       "    </tr>\n",
       "    <tr>\n",
       "      <th>19006</th>\n",
       "      <td>10.2264</td>\n",
       "      <td>45.0</td>\n",
       "      <td>3.166667</td>\n",
       "      <td>0.833333</td>\n",
       "      <td>7460.0</td>\n",
       "      <td>1243.333333</td>\n",
       "      <td>38.32</td>\n",
       "      <td>-121.98</td>\n",
       "      <td>1.37500</td>\n",
       "    </tr>\n",
       "  </tbody>\n",
       "</table>\n",
       "</div>"
      ],
      "text/plain": [
       "        MedInc  HouseAge  AveRooms  AveBedrms  Population     AveOccup  \\\n",
       "13366   4.2578      36.0  5.258824   1.117647      2886.0    33.952941   \n",
       "8874    9.3370      52.0  7.285714   1.214286      1154.0    41.214286   \n",
       "16420   5.7485      26.0  5.366667   0.900000      1542.0    51.400000   \n",
       "12104   1.6250       8.0  7.600000   0.950000      1275.0    63.750000   \n",
       "9172    4.2391       5.0  5.123810   0.933333      8733.0    83.171429   \n",
       "13034   6.1359      52.0  8.275862   1.517241      6675.0   230.172414   \n",
       "16669   4.2639      46.0  9.076923   1.307692      6532.0   502.461538   \n",
       "3364    5.5179      36.0  5.142857   1.142857      4198.0   599.714286   \n",
       "19006  10.2264      45.0  3.166667   0.833333      7460.0  1243.333333   \n",
       "\n",
       "       Latitude  Longitude  MedHouseVal  \n",
       "13366     33.94    -117.63      1.83300  \n",
       "8874      34.06    -118.45      5.00001  \n",
       "16420     37.89    -121.29      1.62500  \n",
       "12104     33.97    -117.33      1.62500  \n",
       "9172      34.47    -118.59      1.54600  \n",
       "13034     38.69    -121.15      2.25000  \n",
       "16669     35.32    -120.70      3.50000  \n",
       "3364      40.41    -120.51      0.67500  \n",
       "19006     38.32    -121.98      1.37500  "
      ]
     },
     "execution_count": 35,
     "metadata": {},
     "output_type": "execute_result"
    }
   ],
   "source": [
    "house_prices[np.log10(house_prices.AveOccup) > 1.5].sort_values(\"AveOccup\")"
   ]
  },
  {
   "cell_type": "markdown",
   "id": "86be4a72-d1b8-4f93-ac06-7fa7a4e46d1b",
   "metadata": {},
   "source": [
    "Това са outliers. С feature engineering може да се стигне далеч. Наивният модел би бил директен."
   ]
  },
  {
   "cell_type": "code",
   "execution_count": 37,
   "id": "f0ed6895-7024-483e-bdc5-b87ef693a688",
   "metadata": {},
   "outputs": [],
   "source": [
    "house_model = LinearRegression()"
   ]
  },
  {
   "cell_type": "code",
   "execution_count": 40,
   "id": "d2fc6ecb-733b-4654-ac1f-e7964f278da1",
   "metadata": {},
   "outputs": [
    {
     "data": {
      "text/plain": [
       "LinearRegression()"
      ]
     },
     "execution_count": 40,
     "metadata": {},
     "output_type": "execute_result"
    }
   ],
   "source": [
    "house_model"
   ]
  },
  {
   "cell_type": "markdown",
   "id": "339d18bf-10e3-418d-826a-f430769e256c",
   "metadata": {},
   "source": [
    "Много срещана грешка:"
   ]
  },
  {
   "cell_type": "code",
   "execution_count": 41,
   "id": "6c4cbb4d-2168-4cf6-b4aa-1465ce2eb681",
   "metadata": {},
   "outputs": [
    {
     "data": {
      "text/plain": [
       "LinearRegression()"
      ]
     },
     "execution_count": 41,
     "metadata": {},
     "output_type": "execute_result"
    }
   ],
   "source": [
    "house_model.fit(house_prices, house_prices.MedHouseVal)"
   ]
  },
  {
   "cell_type": "code",
   "execution_count": 42,
   "id": "6c0d903a-f7c1-4f41-a155-c30293935a8a",
   "metadata": {},
   "outputs": [
    {
     "data": {
      "text/plain": [
       "array([-3.46384502e-15, -4.69069228e-15, -1.70002901e-15,  4.39362088e-15,\n",
       "        1.38777878e-17, -1.04083409e-16, -1.10154941e-16, -5.39390581e-16,\n",
       "        1.00000000e+00])"
      ]
     },
     "execution_count": 42,
     "metadata": {},
     "output_type": "execute_result"
    }
   ],
   "source": [
    "house_model.coef_"
   ]
  },
  {
   "cell_type": "code",
   "execution_count": 43,
   "id": "18919f37-73b9-4e8e-942c-f80ca8c201f2",
   "metadata": {},
   "outputs": [
    {
     "data": {
      "text/plain": [
       "array(['MedInc', 'HouseAge', 'AveRooms', 'AveBedrms', 'Population',\n",
       "       'AveOccup', 'Latitude', 'Longitude', 'MedHouseVal'], dtype=object)"
      ]
     },
     "execution_count": 43,
     "metadata": {},
     "output_type": "execute_result"
    }
   ],
   "source": [
    "house_model.feature_names_in_"
   ]
  },
  {
   "cell_type": "markdown",
   "id": "08784509-87ed-4da2-a9ee-5f3e6ec44ef8",
   "metadata": {},
   "source": [
    "Кой feature какъв коефициент има:"
   ]
  },
  {
   "cell_type": "code",
   "execution_count": 44,
   "id": "1ae8a511-05c7-4a54-bb33-8ac9d0ccf947",
   "metadata": {},
   "outputs": [
    {
     "data": {
      "text/plain": [
       "[('MedInc', -3.4638450153562557e-15),\n",
       " ('HouseAge', -4.690692279041286e-15),\n",
       " ('AveRooms', -1.700029006457271e-15),\n",
       " ('AveBedrms', 4.393620883780258e-15),\n",
       " ('Population', 1.3877787807814457e-17),\n",
       " ('AveOccup', -1.0408340855860843e-16),\n",
       " ('Latitude', -1.1015494072452725e-16),\n",
       " ('Longitude', -5.393905808115385e-16),\n",
       " ('MedHouseVal', 1.0000000000000016)]"
      ]
     },
     "execution_count": 44,
     "metadata": {},
     "output_type": "execute_result"
    }
   ],
   "source": [
    "list(zip(house_model.feature_names_in_, house_model.coef_))"
   ]
  },
  {
   "cell_type": "markdown",
   "id": "00a1df5e-bd29-438d-96aa-e562b09da9f7",
   "metadata": {},
   "source": [
    "Първа много често срещана грешка е оставям изходен фиичър или който е много подобен на него на който няма да получа в реалните данни като част от модела.\n",
    "\n",
    "-1.700029006457271e-15 ... това са коефициенти много близки до 0. На практика те са 0. Това са числени грешки 10 -15 , 10 - 16"
   ]
  },
  {
   "cell_type": "code",
   "execution_count": 65,
   "id": "f07a8c11-2685-4eb5-899e-46b71262f77b",
   "metadata": {},
   "outputs": [
    {
     "data": {
      "image/png": "[encoded data removed]",
      "text/plain": [
       "<Figure size 432x288 with 1 Axes>"
      ]
     },
     "metadata": {
      "needs_background": "light"
     },
     "output_type": "display_data"
    }
   ],
   "source": [
    "plt.hist(house_prices.MedHouseVal, bins = \"fd\")\n",
    "plt.show()"
   ]
  },
  {
   "cell_type": "code",
   "execution_count": 46,
   "id": "42b1513e-3db9-4699-993c-52fc2a98d03d",
   "metadata": {},
   "outputs": [],
   "source": [
    "house_model = LinearRegression()"
   ]
  },
  {
   "cell_type": "code",
   "execution_count": 47,
   "id": "5273c902-86cc-4f56-9aae-0136037c0587",
   "metadata": {},
   "outputs": [],
   "source": [
    "house_attributes = house_prices.drop(columns = [\"MedHouseVal\"])\n",
    "house_values = house_prices.MedHouseVal"
   ]
  },
  {
   "cell_type": "code",
   "execution_count": 48,
   "id": "7dff5ad1-9359-45b3-9be4-8af57f28e04b",
   "metadata": {},
   "outputs": [
    {
     "data": {
      "text/plain": [
       "LinearRegression()"
      ]
     },
     "execution_count": 48,
     "metadata": {},
     "output_type": "execute_result"
    }
   ],
   "source": [
    "house_model.fit(house_attributes, house_values)"
   ]
  },
  {
   "cell_type": "code",
   "execution_count": 49,
   "id": "1703f160-94d7-47d0-bf82-922d056ea99e",
   "metadata": {},
   "outputs": [
    {
     "data": {
      "text/plain": [
       "array([ 4.36693293e-01,  9.43577803e-03, -1.07322041e-01,  6.45065694e-01,\n",
       "       -3.97638942e-06, -3.78654265e-03, -4.21314378e-01, -4.34513755e-01])"
      ]
     },
     "execution_count": 49,
     "metadata": {},
     "output_type": "execute_result"
    }
   ],
   "source": [
    "house_model.coef_"
   ]
  },
  {
   "cell_type": "code",
   "execution_count": 50,
   "id": "01d95c6e-5aa3-4f12-acc7-35d8da2b16b3",
   "metadata": {},
   "outputs": [
    {
     "data": {
      "text/plain": [
       "[('MedInc', 0.436693293134325),\n",
       " ('HouseAge', 0.00943577803323845),\n",
       " ('AveRooms', -0.10732204139090426),\n",
       " ('AveBedrms', 0.6450656935198124),\n",
       " ('Population', -3.976389421180351e-06),\n",
       " ('AveOccup', -0.0037865426549710595),\n",
       " ('Latitude', -0.421314377527144),\n",
       " ('Longitude', -0.43451375467477726)]"
      ]
     },
     "execution_count": 50,
     "metadata": {},
     "output_type": "execute_result"
    }
   ],
   "source": [
    "list(zip(house_model.feature_names_in_, house_model.coef_))"
   ]
  },
  {
   "cell_type": "markdown",
   "id": "f9473d8a-f98a-4cb1-ad8e-ced50c42c986",
   "metadata": {},
   "source": [
    "Тези коефициенти са около 1цата и около 0та, което е хубаво."
   ]
  },
  {
   "cell_type": "code",
   "execution_count": 55,
   "id": "d5eca1bf-f068-4385-86cc-3931f73540c6",
   "metadata": {},
   "outputs": [],
   "source": [
    "scaler = MinMaxScaler()"
   ]
  },
  {
   "cell_type": "code",
   "execution_count": 56,
   "id": "1e2886c3-042c-4409-a0ee-49fe14c476c1",
   "metadata": {},
   "outputs": [
    {
     "data": {
      "text/plain": [
       "MinMaxScaler()"
      ]
     },
     "execution_count": 56,
     "metadata": {},
     "output_type": "execute_result"
    }
   ],
   "source": [
    "scaler.fit(house_prices)"
   ]
  },
  {
   "cell_type": "code",
   "execution_count": 57,
   "id": "14732884-d6d1-4025-900e-c37b07486719",
   "metadata": {},
   "outputs": [
    {
     "data": {
      "text/plain": [
       "array([[0.53966842, 0.78431373, 0.0435123 , ..., 0.5674814 , 0.21115538,\n",
       "        0.90226638],\n",
       "       [0.53802706, 0.39215686, 0.03822395, ..., 0.565356  , 0.21215139,\n",
       "        0.70824656],\n",
       "       [0.46602805, 1.        , 0.05275646, ..., 0.5642933 , 0.21015936,\n",
       "        0.69505074],\n",
       "       ...,\n",
       "       [0.08276438, 0.31372549, 0.03090386, ..., 0.73219979, 0.31175299,\n",
       "        0.15938285],\n",
       "       [0.09429525, 0.33333333, 0.03178269, ..., 0.73219979, 0.30179283,\n",
       "        0.14371281],\n",
       "       [0.13025338, 0.29411765, 0.03125246, ..., 0.72582359, 0.30976096,\n",
       "        0.15340349]])"
      ]
     },
     "execution_count": 57,
     "metadata": {},
     "output_type": "execute_result"
    }
   ],
   "source": [
    "scaler.transform(house_prices)"
   ]
  },
  {
   "cell_type": "markdown",
   "id": "a375e6d5-c0c9-4580-a959-c155ae1a9722",
   "metadata": {},
   "source": [
    "Най-често се стремим експонентата да бъде 10 на 0лева, т.е. да бъдат стойности, които са от порядъка на 1ци."
   ]
  },
  {
   "cell_type": "code",
   "execution_count": 58,
   "id": "6f06e5bf-2e7d-4796-8c72-c703ca0be5e3",
   "metadata": {},
   "outputs": [
    {
     "data": {
      "text/plain": [
       "MedInc           0.499900\n",
       "HouseAge         1.000000\n",
       "AveRooms         0.846154\n",
       "AveBedrms        0.333333\n",
       "Population       3.000000\n",
       "AveOccup         0.692308\n",
       "Latitude        32.540000\n",
       "Longitude     -124.350000\n",
       "MedHouseVal      0.149990\n",
       "dtype: float64"
      ]
     },
     "execution_count": 58,
     "metadata": {},
     "output_type": "execute_result"
    }
   ],
   "source": [
    "house_prices.min(axis = 0)"
   ]
  },
  {
   "cell_type": "code",
   "execution_count": 59,
   "id": "b92f1618-790c-4401-88d0-7d976e48fb55",
   "metadata": {},
   "outputs": [
    {
     "data": {
      "text/plain": [
       "MedInc            15.000100\n",
       "HouseAge          52.000000\n",
       "AveRooms         141.909091\n",
       "AveBedrms         34.066667\n",
       "Population     35682.000000\n",
       "AveOccup        1243.333333\n",
       "Latitude          41.950000\n",
       "Longitude       -114.310000\n",
       "MedHouseVal        5.000010\n",
       "dtype: float64"
      ]
     },
     "execution_count": 59,
     "metadata": {},
     "output_type": "execute_result"
    }
   ],
   "source": [
    "house_prices.max(axis = 0)"
   ]
  },
  {
   "cell_type": "markdown",
   "id": "d0232a85-57c4-40c6-b895-b3d7558b403f",
   "metadata": {},
   "source": [
    "Друг начин да скалираме е __Z-score__ със __StandartScaler__:"
   ]
  },
  {
   "cell_type": "code",
   "execution_count": 62,
   "id": "42bb223c-252f-40c9-8960-0c12e4a0ea2c",
   "metadata": {},
   "outputs": [],
   "source": [
    "house_attributes_scaled = scaler.fit_transform(house_attributes)"
   ]
  },
  {
   "cell_type": "code",
   "execution_count": 63,
   "id": "0bdbf13c-63fd-4aa0-b01a-9691466e7eb6",
   "metadata": {},
   "outputs": [],
   "source": [
    "house_model_scaled = LinearRegression()"
   ]
  },
  {
   "cell_type": "code",
   "execution_count": null,
   "id": "092b9098-35af-4554-9fe5-0d4b30e4b5ec",
   "metadata": {},
   "outputs": [],
   "source": [
    "house_model_scaled.fit(house_attributes_scaled, house_prices)"
   ]
  },
  {
   "cell_type": "code",
   "execution_count": 67,
   "id": "a06d91b3-3c60-41e2-a6c3-5c6ffc5fa44f",
   "metadata": {},
   "outputs": [
    {
     "data": {
      "text/plain": [
       "array([5.00001])"
      ]
     },
     "execution_count": 67,
     "metadata": {},
     "output_type": "execute_result"
    }
   ],
   "source": [
    "house_prices[house_prices.MedHouseVal > 5].MedHouseVal.unique()"
   ]
  },
  {
   "cell_type": "code",
   "execution_count": 68,
   "id": "1011af41-0053-41ad-8705-af5ee77e5fb1",
   "metadata": {},
   "outputs": [],
   "source": [
    "house_prices = house_prices[house_prices.MedHouseVal <= 5]"
   ]
  },
  {
   "cell_type": "code",
   "execution_count": 69,
   "id": "38233222-23d4-4e0c-a988-3a0750ce7b6b",
   "metadata": {},
   "outputs": [],
   "source": [
    "house_model_scaled = LinearRegression()"
   ]
  },
  {
   "cell_type": "code",
   "execution_count": 70,
   "id": "d02a5bf5-01e0-45b4-bbb0-20b49b2ef3c4",
   "metadata": {},
   "outputs": [
    {
     "data": {
      "text/plain": [
       "LinearRegression()"
      ]
     },
     "execution_count": 70,
     "metadata": {},
     "output_type": "execute_result"
    }
   ],
   "source": [
    "house_model_scaled.fit(house_attributes_scaled, house_values)"
   ]
  },
  {
   "cell_type": "code",
   "execution_count": 71,
   "id": "2b44c4b6-c283-4172-9291-e3a99c7f8103",
   "metadata": {},
   "outputs": [
    {
     "data": {
      "text/plain": [
       "LinearRegression()"
      ]
     },
     "execution_count": 71,
     "metadata": {},
     "output_type": "execute_result"
    }
   ],
   "source": [
    "house_model_scaled"
   ]
  },
  {
   "cell_type": "code",
   "execution_count": 72,
   "id": "bff4913a-fbfa-4ac8-abb0-620b211a6d8a",
   "metadata": {},
   "outputs": [
    {
     "data": {
      "text/plain": [
       "[('MedInc', 6.332140089106334),\n",
       " ('HouseAge', 0.48122467969509874),\n",
       " ('AveRooms', -15.139162370191123),\n",
       " ('AveBedrms', 21.76021606140171),\n",
       " ('Population', -0.14187359815944206),\n",
       " ('AveOccup', -4.70531324840653),\n",
       " ('Latitude', -3.9645682925304158),\n",
       " ('Longitude', -4.362518096934768)]"
      ]
     },
     "execution_count": 72,
     "metadata": {},
     "output_type": "execute_result"
    }
   ],
   "source": [
    "list(zip(house_model.feature_names_in_, house_model_scaled.coef_))"
   ]
  },
  {
   "cell_type": "markdown",
   "id": "b4bc314e-af6f-4fdb-8fbc-bb1a158423ce",
   "metadata": {},
   "source": [
    "Като сравним тези коефициенти с горните се оказва, че увеличаването на броя стаи намалява цената."
   ]
  },
  {
   "cell_type": "code",
   "execution_count": 73,
   "id": "b38ee381-f503-4036-bd32-59dfa7cd2af4",
   "metadata": {},
   "outputs": [],
   "source": [
    "z_score = StandardScaler().fit_transform(house_attributes)"
   ]
  },
  {
   "cell_type": "code",
   "execution_count": 75,
   "id": "e706a425-ccd9-460c-b51b-3e8e8734bf3b",
   "metadata": {},
   "outputs": [],
   "source": [
    "z_score_model = LinearRegression()"
   ]
  },
  {
   "cell_type": "code",
   "execution_count": 76,
   "id": "6aa94df1-ffdb-4770-85bf-564106a2d5bd",
   "metadata": {},
   "outputs": [
    {
     "data": {
      "text/plain": [
       "LinearRegression()"
      ]
     },
     "execution_count": 76,
     "metadata": {},
     "output_type": "execute_result"
    }
   ],
   "source": [
    "z_score_model.fit(z_score, house_values)"
   ]
  },
  {
   "cell_type": "code",
   "execution_count": 77,
   "id": "2afb5e72-786c-4547-8e96-baf20682555b",
   "metadata": {},
   "outputs": [
    {
     "data": {
      "text/plain": [
       "[('MedInc', 0.8296193042804514),\n",
       " ('HouseAge', 0.11875165121214196),\n",
       " ('AveRooms', -0.2655268795066195),\n",
       " ('AveBedrms', 0.3056962298043094),\n",
       " ('Population', -0.0045030013126136845),\n",
       " ('AveOccup', -0.03932626697814873),\n",
       " ('Latitude', -0.8998856544145069),\n",
       " ('Longitude', -0.8705410023357297)]"
      ]
     },
     "execution_count": 77,
     "metadata": {},
     "output_type": "execute_result"
    }
   ],
   "source": [
    "list(zip(house_model.feature_names_in_, z_score_model.coef_))"
   ]
  },
  {
   "cell_type": "code",
   "execution_count": 79,
   "id": "f9fa9f55-03bc-438d-978d-8bd55818794d",
   "metadata": {},
   "outputs": [
    {
     "data": {
      "text/plain": [
       "0.606232685199805"
      ]
     },
     "execution_count": 79,
     "metadata": {},
     "output_type": "execute_result"
    }
   ],
   "source": [
    "z_score_model.score(z_score, house_values)"
   ]
  },
  {
   "cell_type": "markdown",
   "id": "76007319-4877-40bf-a2f3-5ad596b15273",
   "metadata": {},
   "source": [
    "#### Check qr decomposition!\n",
    "\n",
    "Между outlier и аномалия има разлика. Outliers са нормални данни с поведение различно от нормалното. \n",
    "\n",
    "Аномалия са данни, дори които могат да бъдат моделирани добре, но са в много много крайните диапазони на едно разпределние. И още по-важно се случват много рядко. Дори е възможно да търсим аномалии без такива да сме наблюдавали в dataset-a.\n",
    "\n",
    "И има още един случай novelty - detection данни, които не подозираме, че може да съществуват. Пак е нещо като аномалия, но са черни \"лебеди\"."
   ]
  },
  {
   "cell_type": "code",
   "execution_count": 81,
   "id": "9a9fa4e1-2b77-4796-bf21-431364695285",
   "metadata": {},
   "outputs": [],
   "source": [
    "ransac_model = RANSACRegressor()"
   ]
  },
  {
   "cell_type": "code",
   "execution_count": 82,
   "id": "3c195a49-c8dc-4d8d-bc8a-29165f8190b4",
   "metadata": {},
   "outputs": [
    {
     "data": {
      "text/plain": [
       "RANSACRegressor()"
      ]
     },
     "execution_count": 82,
     "metadata": {},
     "output_type": "execute_result"
    }
   ],
   "source": [
    "ransac_model .fit(house_attributes_scaled, house_values)"
   ]
  },
  {
   "cell_type": "code",
   "execution_count": 83,
   "id": "32688f9f-7157-4ed8-9c6c-8cb1d2e5eee9",
   "metadata": {},
   "outputs": [
    {
     "data": {
      "text/plain": [
       "array([ 4.54697360e+00,  1.38181995e-01,  1.65849024e+01, -1.03841194e+01,\n",
       "        6.92602619e+00, -2.94409245e+02, -2.03007810e+00, -1.96180445e+00])"
      ]
     },
     "execution_count": 83,
     "metadata": {},
     "output_type": "execute_result"
    }
   ],
   "source": [
    "ransac_model.estimator_.coef_"
   ]
  },
  {
   "cell_type": "code",
   "execution_count": 84,
   "id": "36d388a0-461e-41fb-96af-8f9aae9b1601",
   "metadata": {},
   "outputs": [
    {
     "data": {
      "text/plain": [
       "12721"
      ]
     },
     "execution_count": 84,
     "metadata": {},
     "output_type": "execute_result"
    }
   ],
   "source": [
    "ransac_model.inlier_mask_.sum()"
   ]
  },
  {
   "cell_type": "code",
   "execution_count": 85,
   "id": "6f718ee4-aa64-46d5-ab88-be42c378686e",
   "metadata": {},
   "outputs": [
    {
     "data": {
      "text/html": [
       "<div>\n",
       "<style scoped>\n",
       "    .dataframe tbody tr th:only-of-type {\n",
       "        vertical-align: middle;\n",
       "    }\n",
       "\n",
       "    .dataframe tbody tr th {\n",
       "        vertical-align: top;\n",
       "    }\n",
       "\n",
       "    .dataframe thead th {\n",
       "        text-align: right;\n",
       "    }\n",
       "</style>\n",
       "<table border=\"1\" class=\"dataframe\">\n",
       "  <thead>\n",
       "    <tr style=\"text-align: right;\">\n",
       "      <th></th>\n",
       "      <th>MedInc</th>\n",
       "      <th>HouseAge</th>\n",
       "      <th>AveRooms</th>\n",
       "      <th>AveBedrms</th>\n",
       "      <th>Population</th>\n",
       "      <th>AveOccup</th>\n",
       "      <th>Latitude</th>\n",
       "      <th>Longitude</th>\n",
       "    </tr>\n",
       "  </thead>\n",
       "  <tbody>\n",
       "    <tr>\n",
       "      <th>0</th>\n",
       "      <td>8.3252</td>\n",
       "      <td>41.0</td>\n",
       "      <td>6.984127</td>\n",
       "      <td>1.023810</td>\n",
       "      <td>322.0</td>\n",
       "      <td>2.555556</td>\n",
       "      <td>37.88</td>\n",
       "      <td>-122.23</td>\n",
       "    </tr>\n",
       "    <tr>\n",
       "      <th>3</th>\n",
       "      <td>5.6431</td>\n",
       "      <td>52.0</td>\n",
       "      <td>5.817352</td>\n",
       "      <td>1.073059</td>\n",
       "      <td>558.0</td>\n",
       "      <td>2.547945</td>\n",
       "      <td>37.85</td>\n",
       "      <td>-122.25</td>\n",
       "    </tr>\n",
       "    <tr>\n",
       "      <th>4</th>\n",
       "      <td>3.8462</td>\n",
       "      <td>52.0</td>\n",
       "      <td>6.281853</td>\n",
       "      <td>1.081081</td>\n",
       "      <td>565.0</td>\n",
       "      <td>2.181467</td>\n",
       "      <td>37.85</td>\n",
       "      <td>-122.25</td>\n",
       "    </tr>\n",
       "    <tr>\n",
       "      <th>5</th>\n",
       "      <td>4.0368</td>\n",
       "      <td>52.0</td>\n",
       "      <td>4.761658</td>\n",
       "      <td>1.103627</td>\n",
       "      <td>413.0</td>\n",
       "      <td>2.139896</td>\n",
       "      <td>37.85</td>\n",
       "      <td>-122.25</td>\n",
       "    </tr>\n",
       "    <tr>\n",
       "      <th>6</th>\n",
       "      <td>3.6591</td>\n",
       "      <td>52.0</td>\n",
       "      <td>4.931907</td>\n",
       "      <td>0.951362</td>\n",
       "      <td>1094.0</td>\n",
       "      <td>2.128405</td>\n",
       "      <td>37.84</td>\n",
       "      <td>-122.25</td>\n",
       "    </tr>\n",
       "    <tr>\n",
       "      <th>...</th>\n",
       "      <td>...</td>\n",
       "      <td>...</td>\n",
       "      <td>...</td>\n",
       "      <td>...</td>\n",
       "      <td>...</td>\n",
       "      <td>...</td>\n",
       "      <td>...</td>\n",
       "      <td>...</td>\n",
       "    </tr>\n",
       "    <tr>\n",
       "      <th>20593</th>\n",
       "      <td>3.3611</td>\n",
       "      <td>36.0</td>\n",
       "      <td>5.911765</td>\n",
       "      <td>0.965686</td>\n",
       "      <td>537.0</td>\n",
       "      <td>2.632353</td>\n",
       "      <td>39.16</td>\n",
       "      <td>-121.58</td>\n",
       "    </tr>\n",
       "    <tr>\n",
       "      <th>20594</th>\n",
       "      <td>3.7250</td>\n",
       "      <td>21.0</td>\n",
       "      <td>6.219269</td>\n",
       "      <td>1.003322</td>\n",
       "      <td>870.0</td>\n",
       "      <td>2.890365</td>\n",
       "      <td>39.16</td>\n",
       "      <td>-121.57</td>\n",
       "    </tr>\n",
       "    <tr>\n",
       "      <th>20604</th>\n",
       "      <td>2.3496</td>\n",
       "      <td>17.0</td>\n",
       "      <td>4.551392</td>\n",
       "      <td>0.962527</td>\n",
       "      <td>3265.0</td>\n",
       "      <td>3.495717</td>\n",
       "      <td>39.12</td>\n",
       "      <td>-121.54</td>\n",
       "    </tr>\n",
       "    <tr>\n",
       "      <th>20625</th>\n",
       "      <td>4.1250</td>\n",
       "      <td>37.0</td>\n",
       "      <td>7.285714</td>\n",
       "      <td>1.214286</td>\n",
       "      <td>29.0</td>\n",
       "      <td>2.071429</td>\n",
       "      <td>39.12</td>\n",
       "      <td>-121.52</td>\n",
       "    </tr>\n",
       "    <tr>\n",
       "      <th>20629</th>\n",
       "      <td>2.0943</td>\n",
       "      <td>28.0</td>\n",
       "      <td>5.519802</td>\n",
       "      <td>1.020902</td>\n",
       "      <td>6912.0</td>\n",
       "      <td>3.801980</td>\n",
       "      <td>39.12</td>\n",
       "      <td>-121.39</td>\n",
       "    </tr>\n",
       "  </tbody>\n",
       "</table>\n",
       "<p>7919 rows × 8 columns</p>\n",
       "</div>"
      ],
      "text/plain": [
       "       MedInc  HouseAge  AveRooms  AveBedrms  Population  AveOccup  Latitude  \\\n",
       "0      8.3252      41.0  6.984127   1.023810       322.0  2.555556     37.88   \n",
       "3      5.6431      52.0  5.817352   1.073059       558.0  2.547945     37.85   \n",
       "4      3.8462      52.0  6.281853   1.081081       565.0  2.181467     37.85   \n",
       "5      4.0368      52.0  4.761658   1.103627       413.0  2.139896     37.85   \n",
       "6      3.6591      52.0  4.931907   0.951362      1094.0  2.128405     37.84   \n",
       "...       ...       ...       ...        ...         ...       ...       ...   \n",
       "20593  3.3611      36.0  5.911765   0.965686       537.0  2.632353     39.16   \n",
       "20594  3.7250      21.0  6.219269   1.003322       870.0  2.890365     39.16   \n",
       "20604  2.3496      17.0  4.551392   0.962527      3265.0  3.495717     39.12   \n",
       "20625  4.1250      37.0  7.285714   1.214286        29.0  2.071429     39.12   \n",
       "20629  2.0943      28.0  5.519802   1.020902      6912.0  3.801980     39.12   \n",
       "\n",
       "       Longitude  \n",
       "0        -122.23  \n",
       "3        -122.25  \n",
       "4        -122.25  \n",
       "5        -122.25  \n",
       "6        -122.25  \n",
       "...          ...  \n",
       "20593    -121.58  \n",
       "20594    -121.57  \n",
       "20604    -121.54  \n",
       "20625    -121.52  \n",
       "20629    -121.39  \n",
       "\n",
       "[7919 rows x 8 columns]"
      ]
     },
     "execution_count": 85,
     "metadata": {},
     "output_type": "execute_result"
    }
   ],
   "source": [
    "house_attributes[~ransac_model.inlier_mask_]"
   ]
  },
  {
   "cell_type": "code",
   "execution_count": 88,
   "id": "ae3f30f1-673d-4ee8-86b2-227a6f84940b",
   "metadata": {},
   "outputs": [
    {
     "data": {
      "text/plain": [
       "0.6062326851998051"
      ]
     },
     "execution_count": 88,
     "metadata": {},
     "output_type": "execute_result"
    }
   ],
   "source": [
    "house_model_scaled.score(house_attributes_scaled, house_values)"
   ]
  },
  {
   "cell_type": "code",
   "execution_count": 86,
   "id": "70eca271-5666-40be-a3e7-2b718057e361",
   "metadata": {},
   "outputs": [
    {
     "data": {
      "text/plain": [
       "-3.9557345961475807"
      ]
     },
     "execution_count": 86,
     "metadata": {},
     "output_type": "execute_result"
    }
   ],
   "source": [
    "ransac_model.score(house_attributes_scaled, house_values)"
   ]
  },
  {
   "cell_type": "code",
   "execution_count": 89,
   "id": "3b6a66d8-c0ce-477b-afe2-9e5250bca5d7",
   "metadata": {},
   "outputs": [
    {
     "data": {
      "text/plain": [
       "0.8641058904832725"
      ]
     },
     "execution_count": 89,
     "metadata": {},
     "output_type": "execute_result"
    }
   ],
   "source": [
    "ransac_model.score(house_attributes_scaled[ransac_model.inlier_mask_], house_values[ransac_model.inlier_mask_])"
   ]
  },
  {
   "cell_type": "code",
   "execution_count": 92,
   "id": "fb7611dc-5dd9-4af5-b56c-e76db05f80fd",
   "metadata": {},
   "outputs": [
    {
     "data": {
      "text/plain": [
       "0.14462209302325582"
      ]
     },
     "execution_count": 92,
     "metadata": {},
     "output_type": "execute_result"
    }
   ],
   "source": [
    "ransac_model = RANSACRegressor(residual_threshold = 0.1, max_trials = 1000)\n",
    "ransac_model.fit(house_attributes_scaled, house_values)\n",
    "ransac_model.inlier_mask_.sum() / len(house_attributes_scaled)"
   ]
  },
  {
   "cell_type": "code",
   "execution_count": 94,
   "id": "466f978a-956e-4dec-a733-fa20bef3d656",
   "metadata": {},
   "outputs": [
    {
     "data": {
      "image/png": "[encoded data removed]",
      "text/plain": [
       "<Figure size 432x288 with 1 Axes>"
      ]
     },
     "metadata": {
      "needs_background": "light"
     },
     "output_type": "display_data"
    }
   ],
   "source": [
    "plt.scatter(house_attributes[ransac_model.inlier_mask_].HouseAge, house_attributes[ransac_model.inlier_mask_].AveRooms)\n",
    "plt.show()"
   ]
  },
  {
   "cell_type": "code",
   "execution_count": 96,
   "id": "d9163fb1-9a75-461d-981c-7def3f924749",
   "metadata": {},
   "outputs": [
    {
     "data": {
      "image/png": "[encoded data removed]",
      "text/plain": [
       "<Figure size 432x288 with 1 Axes>"
      ]
     },
     "metadata": {
      "needs_background": "light"
     },
     "output_type": "display_data"
    }
   ],
   "source": [
    "plt.scatter(house_attributes[~ransac_model.inlier_mask_].HouseAge, house_attributes[~ransac_model.inlier_mask_].AveRooms)\n",
    "plt.show()"
   ]
  },
  {
   "cell_type": "code",
   "execution_count": 98,
   "id": "740ec9d5-b229-4d76-9444-2f8dfa2a6726",
   "metadata": {},
   "outputs": [
    {
     "data": {
      "image/png": "[encoded data removed]",
      "text/plain": [
       "<Figure size 432x288 with 1 Axes>"
      ]
     },
     "metadata": {
      "needs_background": "light"
     },
     "output_type": "display_data"
    }
   ],
   "source": [
    "plt.scatter(house_attributes[ransac_model.inlier_mask_].HouseAge, house_attributes[ransac_model.inlier_mask_].AveRooms)\n",
    "plt.scatter(house_attributes[~ransac_model.inlier_mask_].HouseAge, house_attributes[~ransac_model.inlier_mask_].AveRooms, s = 1)\n",
    "plt.show()"
   ]
  },
  {
   "cell_type": "markdown",
   "id": "8b2e72a8-be33-41b3-a4ed-8b84ec288576",
   "metadata": {},
   "source": [
    "Много често като умножим две колони това е нова колона, която ни дава взаимодействието между тях. И тук е доста важно да бъдат скалирани."
   ]
  },
  {
   "cell_type": "code",
   "execution_count": 102,
   "id": "e3b5cdee-c7f5-4909-8f8f-d401daa2aa97",
   "metadata": {},
   "outputs": [
    {
     "data": {
      "text/plain": [
       "array([[1.        , 0.53966842, 0.78431373, ..., 0.06799945, 0.02530206,\n",
       "        0.0094147 ],\n",
       "       [1.        , 0.53802706, 0.39215686, ..., 0.0678094 , 0.02544566,\n",
       "        0.00954856],\n",
       "       [1.        , 0.46602805, 1.        , ..., 0.0669204 , 0.02492312,\n",
       "        0.0092821 ],\n",
       "       ...,\n",
       "       [1.        , 0.08276438, 0.31372549, ..., 0.16713593, 0.07116244,\n",
       "        0.03029925],\n",
       "       [1.        , 0.09429525, 0.33333333, ..., 0.16179612, 0.06668796,\n",
       "        0.02748696],\n",
       "       [1.        , 0.13025338, 0.29411765, ..., 0.16318823, 0.06964412,\n",
       "        0.02972214]])"
      ]
     },
     "execution_count": 102,
     "metadata": {},
     "output_type": "execute_result"
    }
   ],
   "source": [
    "poly_transformer = PolynomialFeatures(degree = 3)\n",
    "poly_transformer.fit_transform(house_attributes_scaled)"
   ]
  },
  {
   "cell_type": "code",
   "execution_count": 104,
   "id": "54b5d391-21c6-43f3-8121-7ea98ba35720",
   "metadata": {},
   "outputs": [
    {
     "data": {
      "text/plain": [
       "array(['1', 'x0', 'x1', 'x2', 'x3', 'x4', 'x5', 'x6', 'x7', 'x0^2',\n",
       "       'x0 x1', 'x0 x2', 'x0 x3', 'x0 x4', 'x0 x5', 'x0 x6', 'x0 x7',\n",
       "       'x1^2', 'x1 x2', 'x1 x3', 'x1 x4', 'x1 x5', 'x1 x6', 'x1 x7',\n",
       "       'x2^2', 'x2 x3', 'x2 x4', 'x2 x5', 'x2 x6', 'x2 x7', 'x3^2',\n",
       "       'x3 x4', 'x3 x5', 'x3 x6', 'x3 x7', 'x4^2', 'x4 x5', 'x4 x6',\n",
       "       'x4 x7', 'x5^2', 'x5 x6', 'x5 x7', 'x6^2', 'x6 x7', 'x7^2', 'x0^3',\n",
       "       'x0^2 x1', 'x0^2 x2', 'x0^2 x3', 'x0^2 x4', 'x0^2 x5', 'x0^2 x6',\n",
       "       'x0^2 x7', 'x0 x1^2', 'x0 x1 x2', 'x0 x1 x3', 'x0 x1 x4',\n",
       "       'x0 x1 x5', 'x0 x1 x6', 'x0 x1 x7', 'x0 x2^2', 'x0 x2 x3',\n",
       "       'x0 x2 x4', 'x0 x2 x5', 'x0 x2 x6', 'x0 x2 x7', 'x0 x3^2',\n",
       "       'x0 x3 x4', 'x0 x3 x5', 'x0 x3 x6', 'x0 x3 x7', 'x0 x4^2',\n",
       "       'x0 x4 x5', 'x0 x4 x6', 'x0 x4 x7', 'x0 x5^2', 'x0 x5 x6',\n",
       "       'x0 x5 x7', 'x0 x6^2', 'x0 x6 x7', 'x0 x7^2', 'x1^3', 'x1^2 x2',\n",
       "       'x1^2 x3', 'x1^2 x4', 'x1^2 x5', 'x1^2 x6', 'x1^2 x7', 'x1 x2^2',\n",
       "       'x1 x2 x3', 'x1 x2 x4', 'x1 x2 x5', 'x1 x2 x6', 'x1 x2 x7',\n",
       "       'x1 x3^2', 'x1 x3 x4', 'x1 x3 x5', 'x1 x3 x6', 'x1 x3 x7',\n",
       "       'x1 x4^2', 'x1 x4 x5', 'x1 x4 x6', 'x1 x4 x7', 'x1 x5^2',\n",
       "       'x1 x5 x6', 'x1 x5 x7', 'x1 x6^2', 'x1 x6 x7', 'x1 x7^2', 'x2^3',\n",
       "       'x2^2 x3', 'x2^2 x4', 'x2^2 x5', 'x2^2 x6', 'x2^2 x7', 'x2 x3^2',\n",
       "       'x2 x3 x4', 'x2 x3 x5', 'x2 x3 x6', 'x2 x3 x7', 'x2 x4^2',\n",
       "       'x2 x4 x5', 'x2 x4 x6', 'x2 x4 x7', 'x2 x5^2', 'x2 x5 x6',\n",
       "       'x2 x5 x7', 'x2 x6^2', 'x2 x6 x7', 'x2 x7^2', 'x3^3', 'x3^2 x4',\n",
       "       'x3^2 x5', 'x3^2 x6', 'x3^2 x7', 'x3 x4^2', 'x3 x4 x5', 'x3 x4 x6',\n",
       "       'x3 x4 x7', 'x3 x5^2', 'x3 x5 x6', 'x3 x5 x7', 'x3 x6^2',\n",
       "       'x3 x6 x7', 'x3 x7^2', 'x4^3', 'x4^2 x5', 'x4^2 x6', 'x4^2 x7',\n",
       "       'x4 x5^2', 'x4 x5 x6', 'x4 x5 x7', 'x4 x6^2', 'x4 x6 x7',\n",
       "       'x4 x7^2', 'x5^3', 'x5^2 x6', 'x5^2 x7', 'x5 x6^2', 'x5 x6 x7',\n",
       "       'x5 x7^2', 'x6^3', 'x6^2 x7', 'x6 x7^2', 'x7^3'], dtype=object)"
      ]
     },
     "execution_count": 104,
     "metadata": {},
     "output_type": "execute_result"
    }
   ],
   "source": [
    "poly_transformer.get_feature_names_out()"
   ]
  },
  {
   "cell_type": "code",
   "execution_count": 105,
   "id": "9b600b76-366b-40a3-bab5-97fc9c2646a2",
   "metadata": {},
   "outputs": [
    {
     "data": {
      "text/plain": [
       "LinearRegression()"
      ]
     },
     "execution_count": 105,
     "metadata": {},
     "output_type": "execute_result"
    }
   ],
   "source": [
    "poly_regression = LinearRegression()\n",
    "poly_regression.fit(poly_transformer.transform(house_attributes_scaled), house_values)"
   ]
  },
  {
   "cell_type": "code",
   "execution_count": 106,
   "id": "84c40781-c5d5-4395-b810-c5e59d87d494",
   "metadata": {},
   "outputs": [
    {
     "data": {
      "text/plain": [
       "0.7385168108924949"
      ]
     },
     "execution_count": 106,
     "metadata": {},
     "output_type": "execute_result"
    }
   ],
   "source": [
    "poly_regression.score(poly_transformer.transform(house_attributes_scaled), house_values)"
   ]
  },
  {
   "cell_type": "code",
   "execution_count": null,
   "id": "84200a13-39e9-495f-9326-d00974a53ad7",
   "metadata": {},
   "outputs": [],
   "source": []
  },
  {
   "cell_type": "code",
   "execution_count": null,
   "id": "ffd94cf0-7307-4f3f-9b59-f1b38a65b3fa",
   "metadata": {},
   "outputs": [],
   "source": []
  }
 ],
 "metadata": {
  "kernelspec": {
   "display_name": "Python 3 (ipykernel)",
   "language": "python",
   "name": "python3"
  },
  "language_info": {
   "codemirror_mode": {
    "name": "ipython",
    "version": 3
   },
   "file_extension": ".py",
   "mimetype": "text/x-python",
   "name": "python",
   "nbconvert_exporter": "python",
   "pygments_lexer": "ipython3",
   "version": "3.9.12"
  }
 },
 "nbformat": 4,
 "nbformat_minor": 5
}

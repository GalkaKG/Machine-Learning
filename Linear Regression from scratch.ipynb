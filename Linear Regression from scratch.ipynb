{
 "cells": [
  {
   "cell_type": "markdown",
   "id": "a717acb4-bcb4-429e-9667-e246e36edc96",
   "metadata": {},
   "source": [
    "# Linear Regression from Scratch\n",
    "\n",
    "In this notebook, we will implement a simple linear regression model from scratch using Python and `numpy`. We will calculate the regression line using basic formulas and visualize the results with `matplotlib`.\n",
    "\n",
    "---\n",
    "\n",
    "## 1. Dataset\n",
    "\n",
    "We will use the following dataset:\n",
    "\n",
    "| \\(X\\) | \\(Y\\) |\n",
    "|-------|-------|\n",
    "| 1     | 2     |\n",
    "| 2     | 4     |\n",
    "| 3     | 6     |\n",
    "| 4     | 8     |\n",
    "\n",
    "---\n",
    "\n",
    "## 2. Linear Regression Formula\n",
    "\n",
    "The equation of a simple linear regression is:\n",
    "\n",
    "$$\n",
    "\\hat{y} = b_0 + b_1 \\cdot x\n",
    "$$\n",
    "\n",
    "Where:\n",
    "- \\(b_0\\): Intercept (the y-value when \\(x = 0\\)).\n",
    "- \\(b_1\\): Slope of the line (how much \\(y\\) changes with \\(x\\)).\n",
    "\n",
    "To calculate \\(b_0\\) and \\(b_1\\), we use these formulas:\n",
    "\n",
    "$$\n",
    "b_1 = \\frac{\\text{Cov}(X, Y)}{\\text{Var}(X)}\n",
    "$$\n",
    "\n",
    "$$\n",
    "b_0 = \\bar{Y} - b_1 \\cdot \\bar{X}\n",
    "$$\n",
    "\n",
    "Where:\n",
    "- $\\bar{X}$ and $\\bar{Y}$ are the means of $X$ and $Y$, respectively.\n",
    "- $\\text{Cov}(X, Y)$: Covariance of $X$ and $Y$.\n",
    "- $\\text{Var}(X)$: Variance of $X$.\n",
    "\n",
    "\n",
    "---"
   ]
  },
  {
   "cell_type": "markdown",
   "id": "2d1b977a-3f80-4f97-8b1d-cf5442d663ad",
   "metadata": {},
   "source": [
    "## 3. Python Implementation"
   ]
  },
  {
   "cell_type": "code",
   "execution_count": 2,
   "id": "c4d10f85-77fa-4267-a7fd-0a73b8e350cf",
   "metadata": {},
   "outputs": [
    {
     "name": "stdout",
     "output_type": "stream",
     "text": [
      "Regression Line: Y = 0.00 + 2.00X\n"
     ]
    },
    {
     "data": {
      "image/png": "[encoded data removed]",
      "text/plain": [
       "<Figure size 432x288 with 1 Axes>"
      ]
     },
     "metadata": {
      "needs_background": "light"
     },
     "output_type": "display_data"
    }
   ],
   "source": [
    "# Importing necessary libraries\n",
    "import numpy as np\n",
    "import matplotlib.pyplot as plt\n",
    "\n",
    "# Step 1: Dataset\n",
    "X = np.array([1, 2, 3, 4])\n",
    "Y = np.array([2, 4, 6, 8])\n",
    "\n",
    "# Step 2: Calculate means\n",
    "X_mean = np.mean(X)\n",
    "Y_mean = np.mean(Y)\n",
    "\n",
    "# Step 3: Calculate the slope (b1)\n",
    "numerator = np.sum((X - X_mean) * (Y - Y_mean))  # Covariance\n",
    "denominator = np.sum((X - X_mean) ** 2)          # Variance\n",
    "b1 = numerator / denominator\n",
    "\n",
    "# Step 4: Calculate the intercept (b0)\n",
    "b0 = Y_mean - b1 * X_mean\n",
    "\n",
    "print(f\"Regression Line: Y = {b0:.2f} + {b1:.2f}X\")\n",
    "\n",
    "# Step 5: Predict Y values\n",
    "Y_pred = b0 + b1 * X\n",
    "\n",
    "# Step 6: Visualization\n",
    "plt.scatter(X, Y, color='blue', label='Data Points')\n",
    "plt.plot(X, Y_pred, color='red', label='Regression Line')\n",
    "plt.xlabel(\"X\")\n",
    "plt.ylabel(\"Y\")\n",
    "plt.legend()\n",
    "plt.title(\"Linear Regression from Scratch\")\n",
    "plt.show()"
   ]
  },
  {
   "cell_type": "code",
   "execution_count": null,
   "id": "4ab15a75-77ed-4be0-a7c5-bf382fb353c6",
   "metadata": {},
   "outputs": [],
   "source": []
  }
 ],
 "metadata": {
  "kernelspec": {
   "display_name": "Python 3 (ipykernel)",
   "language": "python",
   "name": "python3"
  },
  "language_info": {
   "codemirror_mode": {
    "name": "ipython",
    "version": 3
   },
   "file_extension": ".py",
   "mimetype": "text/x-python",
   "name": "python",
   "nbconvert_exporter": "python",
   "pygments_lexer": "ipython3",
   "version": "3.9.12"
  }
 },
 "nbformat": 4,
 "nbformat_minor": 5
}

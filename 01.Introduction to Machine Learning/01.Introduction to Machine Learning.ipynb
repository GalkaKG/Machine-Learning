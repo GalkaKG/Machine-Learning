{
 "cells": [
  {
   "cell_type": "code",
   "execution_count": 1,
   "id": "a3401ca2-6d18-477f-81bc-a4d73c9c85a9",
   "metadata": {},
   "outputs": [],
   "source": [
    "%matplotlib inline"
   ]
  },
  {
   "cell_type": "code",
   "execution_count": 2,
   "id": "50c2d02d-b30a-42c2-bc20-182d58c9fe5f",
   "metadata": {},
   "outputs": [],
   "source": [
    "import numpy as np\n",
    "import pandas as pd\n",
    "import matplotlib.pyplot as plt"
   ]
  },
  {
   "cell_type": "markdown",
   "id": "53e22e42-2573-4afc-8fdd-3e12a80a22f0",
   "metadata": {},
   "source": [
    "# Introduction to Machine Learning"
   ]
  },
  {
   "cell_type": "markdown",
   "id": "568f32ed-2bf1-45aa-81e3-1952eef2b051",
   "metadata": {},
   "source": [
    "## Live Demos\n",
    "\n",
    "1. **O**btain data\n",
    "2. **S**crub\n",
    "3. **E**xplore\n",
    "4. **M**odel\n",
    "5. i**N**terpret\n",
    "\n",
    "__Има 3 вида Алгоритми за Mашинно обучение:__\n",
    "1. Supervised learning\n",
    "2. Unsupervised learning\n",
    "3. Reinforcment learning"
   ]
  },
  {
   "cell_type": "code",
   "execution_count": null,
   "id": "866e4992-f5d3-482f-a352-62158d2ed202",
   "metadata": {},
   "outputs": [],
   "source": []
  }
 ],
 "metadata": {
  "kernelspec": {
   "display_name": "Python 3 (ipykernel)",
   "language": "python",
   "name": "python3"
  },
  "language_info": {
   "codemirror_mode": {
    "name": "ipython",
    "version": 3
   },
   "file_extension": ".py",
   "mimetype": "text/x-python",
   "name": "python",
   "nbconvert_exporter": "python",
   "pygments_lexer": "ipython3",
   "version": "3.9.12"
  }
 },
 "nbformat": 4,
 "nbformat_minor": 5
}

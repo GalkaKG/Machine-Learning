{
 "cells": [
  {
   "cell_type": "markdown",
   "id": "53e22e42-2573-4afc-8fdd-3e12a80a22f0",
   "metadata": {},
   "source": [
    "# Introduction to Machine Learning"
   ]
  }
 ],
 "metadata": {
  "kernelspec": {
   "display_name": "Python 3 (ipykernel)",
   "language": "python",
   "name": "python3"
  },
  "language_info": {
   "codemirror_mode": {
    "name": "ipython",
    "version": 3
   },
   "file_extension": ".py",
   "mimetype": "text/x-python",
   "name": "python",
   "nbconvert_exporter": "python",
   "pygments_lexer": "ipython3",
   "version": "3.11.7"
  }
 },
 "nbformat": 4,
 "nbformat_minor": 5
}

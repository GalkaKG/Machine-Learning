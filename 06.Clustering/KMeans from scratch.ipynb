{
 "cells": [
  {
   "cell_type": "code",
   "execution_count": 1,
   "id": "f77d6542-e369-4cbf-baea-1a83f62fa651",
   "metadata": {},
   "outputs": [],
   "source": [
    "import numpy as np\n",
    "import pandas as pd\n",
    "import matplotlib.pyplot as plt"
   ]
  },
  {
   "cell_type": "code",
   "execution_count": 26,
   "id": "4c1f0781-8849-4b0c-a7b2-a61ec259b36c",
   "metadata": {},
   "outputs": [
    {
     "name": "stdout",
     "output_type": "stream",
     "text": [
      "Centroids: [[25.33333333 29.        ]\n",
      " [ 2.          3.        ]\n",
      " [ 9.          9.66666667]]\n",
      "Labels: [1 1 1 2 2 2 0 0 0]\n"
     ]
    }
   ],
   "source": [
    "import numpy as np\n",
    "\n",
    "class KMeans:\n",
    "    def __init__(self, n_clusters=3, max_iter=300, tol=0.0001):\n",
    "        self.n_clusters = n_clusters        # Number of clusters\n",
    "        self.max_iter = max_iter            # Maximum number of iterations\n",
    "        self.tol = tol                      # Tolerance for convergence\n",
    "        self.centroids = None               # Will hold the centroids after fitting\n",
    "        self.labels = None                  # Labels for each point\n",
    "    \n",
    "    def fit(self, X):\n",
    "        # Step 1: Initialize centroids randomly from the dataset\n",
    "        np.random.seed(42)\n",
    "        random_indices = np.random.choice(len(X), self.n_clusters, replace=False)\n",
    "        self.centroids = X[random_indices]\n",
    "\n",
    "        for i in range(self.max_iter):\n",
    "            # Step 2: Assign labels based on closest centroid\n",
    "            self.labels = self._assign_labels(X)\n",
    "            \n",
    "            # Step 3: Calculate new centroids from the mean of the points in each cluster\n",
    "            new_centroids = np.array([X[self.labels == j].mean(axis=0) for j in range(self.n_clusters)])\n",
    "            \n",
    "            # Step 4: Check for convergence\n",
    "            if np.all(np.linalg.norm(new_centroids - self.centroids, axis=1) < self.tol):\n",
    "                break\n",
    "            \n",
    "            # Update centroids for the next iteration\n",
    "            self.centroids = new_centroids\n",
    "    \n",
    "    def _assign_labels(self, X):\n",
    "        # Calculate distances from each point to each centroid\n",
    "        distances = np.array([np.linalg.norm(X - centroid, axis=1) for centroid in self.centroids])\n",
    "        \n",
    "        # Return the index of the closest centroid for each point\n",
    "        return np.argmin(distances, axis=0)\n",
    "    \n",
    "    def predict(self, X):\n",
    "        # Predict the closest cluster for each point\n",
    "        return self._assign_labels(X)\n",
    "\n",
    "# Example usage\n",
    "if __name__ == \"__main__\":\n",
    "    # Random data for testing (you can replace this with your dataset)\n",
    "    X = np.array([\n",
    "        [1, 2], [2, 3], [3, 4],\n",
    "        [8, 8], [9, 10], [10, 11],\n",
    "        [25, 30], [24, 28], [27, 29]\n",
    "    ])\n",
    "    \n",
    "    # Set the number of clusters\n",
    "    kmeans = KMeans(n_clusters=3)\n",
    "    kmeans.fit(X)\n",
    "    \n",
    "    print(\"Centroids:\", kmeans.centroids)\n",
    "    print(\"Labels:\", kmeans.labels)\n"
   ]
  },
  {
   "cell_type": "code",
   "execution_count": null,
   "id": "f156ec2b-73ff-4fce-b8a6-01724fce7755",
   "metadata": {},
   "outputs": [],
   "source": []
  }
 ],
 "metadata": {
  "kernelspec": {
   "display_name": "Python [conda env:root] *",
   "language": "python",
   "name": "conda-root-py"
  },
  "language_info": {
   "codemirror_mode": {
    "name": "ipython",
    "version": 3
   },
   "file_extension": ".py",
   "mimetype": "text/x-python",
   "name": "python",
   "nbconvert_exporter": "python",
   "pygments_lexer": "ipython3",
   "version": "3.11.7"
  }
 },
 "nbformat": 4,
 "nbformat_minor": 5
}

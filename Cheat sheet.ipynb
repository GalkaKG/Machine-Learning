{
 "cells": [
  {
   "cell_type": "markdown",
   "id": "a324eee4-c404-4bd0-8323-54483536b778",
   "metadata": {},
   "source": [
    "# Cheat sheet\n",
    "\n",
    "## Основни концепции\n",
    "\n",
    "### Train/Test Split\n",
    "Разделяне на данните на тренировъчен и тестов набор:"
   ]
  },
  {
   "cell_type": "code",
   "execution_count": 2,
   "id": "c474ba07-0793-4768-83ff-02c4a855d2d4",
   "metadata": {},
   "outputs": [],
   "source": [
    "from sklearn.model_selection import train_test_split\n",
    "\n",
    "# X - характеристиките (features), y - целевата променлива (target)\n",
    "X_train, X_test, y_train, y_test = train_test_split(X, y, test_size=0.2, random_state=42)"
   ]
  },
  {
   "cell_type": "markdown",
   "id": "99e8a0d0-4017-4249-a91a-02284583f6ff",
   "metadata": {},
   "source": [
    "### Cross-Validation\n",
    "Метод за оценка на модела чрез разделяне на данните на 𝑘-части:"
   ]
  },
  {
   "cell_type": "code",
   "execution_count": null,
   "id": "078a3b93-210c-46df-a570-d2a18b17a066",
   "metadata": {},
   "outputs": [],
   "source": [
    "from sklearn.model_selection import cross_val_score\n",
    "from sklearn.ensemble import RandomForestClassifier\n",
    "\n",
    "model = RandomForestClassifier(random_state=42)\n",
    "scores = cross_val_score(model, X, y, cv=5)  # 5-fold Cross-Validation\n",
    "print(\"Средна точност:\", scores.mean())\n"
   ]
  },
  {
   "cell_type": "markdown",
   "id": "4e4e2ffd-1e45-4261-8514-a57512be66f7",
   "metadata": {},
   "source": [
    "### Gradient Descent\n",
    "Итеративен метод за минимизиране на функция на загуба:"
   ]
  },
  {
   "cell_type": "code",
   "execution_count": null,
   "id": "5529cebb-fb09-4ce0-abc1-441c3126076c",
   "metadata": {},
   "outputs": [],
   "source": [
    "# Пример с ръчно изчисление на градиентен спуск\n",
    "import numpy as np\n",
    "\n",
    "# Функция на загуба (проста квадратична)\n",
    "def loss_function(theta, X, y):\n",
    "    return np.mean((X.dot(theta) - y)**2)\n",
    "\n",
    "# Градиент\n",
    "def gradient(theta, X, y):\n",
    "    return 2 * X.T.dot(X.dot(theta) - y) / len(y)\n",
    "\n",
    "# Инициализация\n",
    "theta = np.random.randn(X.shape[1])  # начални параметри\n",
    "learning_rate = 0.01\n",
    "iterations = 100\n",
    "\n",
    "for i in range(iterations):\n",
    "    theta -= learning_rate * gradient(theta, X, y)\n",
    "    print(f\"Итерация {i+1}, загуба: {loss_function(theta, X, y)}\")"
   ]
  },
  {
   "cell_type": "markdown",
   "id": "59ada579-88d5-44dd-b4e7-02c00d2f15b2",
   "metadata": {},
   "source": [
    "### Regularization\n",
    "Регуларизацията предпазва от overfitting:\n",
    "\n",
    "* L1 (Lasso): Прибавя абсолютната стойност на коефициентите.\n",
    "* L2 (Ridge): Прибавя квадрата на коефициентите."
   ]
  },
  {
   "cell_type": "code",
   "execution_count": null,
   "id": "c22cc14d-6582-4be8-9946-1d38e9fe5e85",
   "metadata": {},
   "outputs": [],
   "source": [
    "from sklearn.linear_model import Ridge, Lasso\n",
    "\n",
    "# Ridge Regression\n",
    "ridge = Ridge(alpha=1.0)  # alpha контролира силата на регуляризацията\n",
    "ridge.fit(X_train, y_train)\n",
    "\n",
    "# Lasso Regression\n",
    "lasso = Lasso(alpha=0.1)\n",
    "lasso.fit(X_train, y_train)\n"
   ]
  },
  {
   "cell_type": "markdown",
   "id": "1e259aac-0654-4ed3-b028-504f7b211564",
   "metadata": {},
   "source": [
    "## Метрики за оценка \n",
    "За регресия\n",
    "### Mean Absolute Error (MAE):"
   ]
  },
  {
   "cell_type": "code",
   "execution_count": null,
   "id": "5a7bf87c-4665-443e-960d-6deaa6e76e33",
   "metadata": {},
   "outputs": [],
   "source": [
    "from sklearn.metrics import mean_absolute_error\n",
    "mae = mean_absolute_error(y_test, y_pred)\n",
    "print(\"MAE:\", mae)\n"
   ]
  },
  {
   "cell_type": "markdown",
   "id": "49148a8a-6d20-42e8-9ead-2a97e0b96233",
   "metadata": {},
   "source": [
    "### Mean Squared Error (MSE):"
   ]
  },
  {
   "cell_type": "code",
   "execution_count": null,
   "id": "60c0672f-01b4-4210-8605-779a742a639b",
   "metadata": {},
   "outputs": [],
   "source": [
    "from sklearn.metrics import mean_squared_error\n",
    "mse = mean_squared_error(y_test, y_pred)\n",
    "print(\"MSE:\", mse)"
   ]
  },
  {
   "cell_type": "markdown",
   "id": "9fe9ed72-51ac-4a11-bb2a-0a42e1fbb159",
   "metadata": {},
   "source": [
    "### R^2 Score:"
   ]
  },
  {
   "cell_type": "code",
   "execution_count": null,
   "id": "24c923fa-5642-4b76-8492-e1cda923d45b",
   "metadata": {},
   "outputs": [],
   "source": [
    "from sklearn.metrics import r2_score\n",
    "r2 = r2_score(y_test, y_pred)\n",
    "print(\"R^2 Score:\", r2)"
   ]
  },
  {
   "cell_type": "markdown",
   "id": "725d2bf8-bfa4-4636-a70e-ae908d59184c",
   "metadata": {},
   "source": [
    "За класификация\n",
    "### Accuracy:"
   ]
  },
  {
   "cell_type": "code",
   "execution_count": null,
   "id": "4ce29c12-6277-46c8-b25c-14b4bbea69e8",
   "metadata": {},
   "outputs": [],
   "source": [
    "from sklearn.metrics import accuracy_score\n",
    "accuracy = accuracy_score(y_test, y_pred)\n",
    "print(\"Точност (Accuracy):\", accuracy)"
   ]
  },
  {
   "cell_type": "markdown",
   "id": "22f80e36-8407-49b3-8abe-5f40d5eeb6c8",
   "metadata": {},
   "source": [
    "### Precision, Recall, F1-Score:"
   ]
  },
  {
   "cell_type": "code",
   "execution_count": null,
   "id": "5173a440-1892-4af1-afa3-640a51b9ff99",
   "metadata": {},
   "outputs": [],
   "source": [
    "from sklearn.metrics import precision_score, recall_score, f1_score\n",
    "\n",
    "precision = precision_score(y_test, y_pred, average='weighted')\n",
    "recall = recall_score(y_test, y_pred, average='weighted')\n",
    "f1 = f1_score(y_test, y_pred, average='weighted')\n",
    "\n",
    "print(\"Precision:\", precision)\n",
    "print(\"Recall:\", recall)\n",
    "print(\"F1-Score:\", f1)\n"
   ]
  },
  {
   "cell_type": "markdown",
   "id": "19c659cd-04f8-4c18-9550-53515c81c264",
   "metadata": {},
   "source": [
    "### Confusion Matrix:"
   ]
  },
  {
   "cell_type": "code",
   "execution_count": null,
   "id": "d9c95e4e-d449-49a1-8555-6114a3cfb0c8",
   "metadata": {},
   "outputs": [],
   "source": [
    "from sklearn.metrics import confusion_matrix\n",
    "import seaborn as sns\n",
    "import matplotlib.pyplot as plt\n",
    "\n",
    "cm = confusion_matrix(y_test, y_pred)\n",
    "sns.heatmap(cm, annot=True, fmt='d', cmap='Blues')\n",
    "plt.xlabel('Предсказани')\n",
    "plt.ylabel('Истински')\n",
    "plt.show()\n"
   ]
  },
  {
   "cell_type": "markdown",
   "id": "6fd6ab4b-68e9-4cf9-a31f-ce6d26536385",
   "metadata": {},
   "source": [
    "### ROC-AUC (за бинарна класификация):\n"
   ]
  },
  {
   "cell_type": "code",
   "execution_count": null,
   "id": "96fcb35b-8694-4391-9ac4-83981af9f739",
   "metadata": {},
   "outputs": [],
   "source": [
    "from sklearn.metrics import roc_auc_score, roc_curve\n",
    "import matplotlib.pyplot as plt\n",
    "\n",
    "y_proba = model.predict_proba(X_test)[:, 1]\n",
    "roc_auc = roc_auc_score(y_test, y_proba)\n",
    "print(\"ROC-AUC:\", roc_auc)\n",
    "\n",
    "fpr, tpr, _ = roc_curve(y_test, y_proba)\n",
    "plt.plot(fpr, tpr, label=f\"ROC-AUC = {roc_auc:.2f}\")\n",
    "plt.plot([0, 1], [0, 1], 'k--')\n",
    "plt.xlabel(\"False Positive Rate\")\n",
    "plt.ylabel(\"True Positive Rate\")\n",
    "plt.title(\"ROC Curve\")\n",
    "plt.legend()\n",
    "plt.show()\n"
   ]
  }
 ],
 "metadata": {
  "kernelspec": {
   "display_name": "Python 3 (ipykernel)",
   "language": "python",
   "name": "python3"
  },
  "language_info": {
   "codemirror_mode": {
    "name": "ipython",
    "version": 3
   },
   "file_extension": ".py",
   "mimetype": "text/x-python",
   "name": "python",
   "nbconvert_exporter": "python",
   "pygments_lexer": "ipython3",
   "version": "3.9.12"
  }
 },
 "nbformat": 4,
 "nbformat_minor": 5
}

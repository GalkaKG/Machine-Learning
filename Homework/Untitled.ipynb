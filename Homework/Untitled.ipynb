{
 "cells": [
  {
   "cell_type": "code",
   "execution_count": null,
   "id": "e7a9ec47-134f-4449-9e56-cca6a2aae45f",
   "metadata": {},
   "outputs": [],
   "source": [
    "!streamlit hello"
   ]
  },
  {
   "cell_type": "markdown",
   "id": "09faaa51-0047-4e28-b459-e3f8be4993f3",
   "metadata": {},
   "source": [
    "With this command we run streamlit:"
   ]
  },
  {
   "cell_type": "code",
   "execution_count": 4,
   "id": "5716396f-d8d4-4c58-ab09-2fbb5fb1b599",
   "metadata": {},
   "outputs": [
    {
     "name": "stderr",
     "output_type": "stream",
     "text": [
      "Traceback (most recent call last):\n",
      "  File \"C:\\Users\\ggeorgieva.HAEMIMONT\\AppData\\Local\\anaconda3\\Scripts\\streamlit-script.py\", line 6, in <module>\n",
      "    from streamlit.cli import main\n",
      "ModuleNotFoundError: No module named 'streamlit.cli'\n"
     ]
    }
   ],
   "source": [
    "!streamlit run app.py"
   ]
  },
  {
   "cell_type": "markdown",
   "id": "900fed75-b755-4440-bbf9-92bc01e45944",
   "metadata": {},
   "source": [
    "https://www.datacamp.com/blog/machine-learning-projects-for-all-levels?dc_referrer=https%3A%2F%2Fwww.google.com%2F\n",
    " \n",
    "2. Classify Song Genres from Audio Data\n",
    "4. Store Sales \n",
    "7. Find Movie Similarity from Plot Summaries\n",
    "10. Speech Emotion Recognition with librosa\n",
    " \n",
    "Netflix Movie Data — DataLab (datacamp.com)\n",
    "DataLab\n",
    "Write code, run analyses, and share your data insights. Go from data to insights in seconds, all from the comfort of your own web browser.\n",
    "\n",
    "Dataset: https://www.kaggle.com/datasets/shivamb/netflix-shows\n",
    " \n",
    "Store Sales - Time Series Forecasting | Kaggle\n",
    "Store Sales - Time Series Forecasting | Kaggle\n",
    "Use machine learning to predict grocery sales\n",
    " "
   ]
  },
  {
   "cell_type": "markdown",
   "id": "26534998-6f47-4667-bd1b-e14249fb3020",
   "metadata": {},
   "source": [
    "- I want my project to generate images.\n",
    "- Just input text, may be story and then gives a image"
   ]
  },
  {
   "cell_type": "code",
   "execution_count": null,
   "id": "b4ef5c50-bd8c-4e1a-89e6-6eb54da41635",
   "metadata": {},
   "outputs": [],
   "source": []
  },
  {
   "cell_type": "markdown",
   "id": "76a33342-167c-46cf-b895-a446a056e1b8",
   "metadata": {},
   "source": [
    "Structure:\n",
    "## Review of Article 1: [Title of the Article]\n",
    "\n",
    "### Summary:\n",
    "- **Authors**: [Names]\n",
    "- **Problem Addressed**: [What issue or question does the article address?]\n",
    "- **Methods Used**: [Summarize the approach/methods used in the article.]\n",
    "- **Key Findings**: [Summarize the results and findings.]\n",
    "- **Conclusion**: [Summarize the authors' final thoughts.]\n",
    "\n",
    "### Reproducing the Results:\n",
    "- **Code Availability**: [Was code provided? If yes, what repository? If no, how did you approach reproducing the results?]\n",
    "- **Dataset**: [Was the dataset available? If no, how did you substitute it?]\n",
    "- **Results Comparison**: [Compare your results with the original ones. Mention any discrepancies and possible reasons.]\n",
    "\n",
    "### Conclusion:\n",
    "- [Summarize your review of the article, mentioning any difficulties you encountered, lessons learned, and your overall evaluation.]"
   ]
  },
  {
   "cell_type": "markdown",
   "id": "d148faac-838f-48f0-a9a6-a655efafc66d",
   "metadata": {},
   "source": [
    "### Template for\n",
    "\n",
    "__Problem Addressed__\n",
    "The article addresses the issue of [specific issue or question], which is critical in the context of [relevant field or topic]. It highlights the challenges associated with [briefly describe the challenges or gaps in knowledge that the article identifies]. Specifically, the authors focus on [mention any specific aspects or parameters that the article discusses].\n",
    "\n",
    "By examining [describe the methodology or approach], the article aims to provide insights into [explain the goals or intended outcomes of the research]. This is particularly relevant because [mention why this issue is significant, such as its implications for practice, policy, or future research].\n",
    "\n",
    "Overall, the article contributes to the existing body of literature by [explain how the article addresses the problem, whether through new findings, theoretical insights, or practical applications]."
   ]
  },
  {
   "cell_type": "code",
   "execution_count": null,
   "id": "05d3da6d-916e-4ea7-b346-eb989d6494c8",
   "metadata": {},
   "outputs": [],
   "source": []
  }
 ],
 "metadata": {
  "kernelspec": {
   "display_name": "Python 3 (ipykernel)",
   "language": "python",
   "name": "python3"
  },
  "language_info": {
   "codemirror_mode": {
    "name": "ipython",
    "version": 3
   },
   "file_extension": ".py",
   "mimetype": "text/x-python",
   "name": "python",
   "nbconvert_exporter": "python",
   "pygments_lexer": "ipython3",
   "version": "3.9.12"
  }
 },
 "nbformat": 4,
 "nbformat_minor": 5
}

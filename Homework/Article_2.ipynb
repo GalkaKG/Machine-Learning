{
 "cells": [
  {
   "cell_type": "markdown",
   "id": "08f3d5fb-28b6-48a6-827e-8a8eb3f48cb8",
   "metadata": {},
   "source": [
    "# Machine Learning Renormalization Group for Statistical Physics"
   ]
  },
  {
   "cell_type": "code",
   "execution_count": null,
   "id": "b675d4d2-2801-4905-b57a-7eb02029137f",
   "metadata": {},
   "outputs": [],
   "source": []
  },
  {
   "cell_type": "code",
   "execution_count": null,
   "id": "0d64f4db-9e2b-4be2-a48c-4c023d6a9a72",
   "metadata": {},
   "outputs": [],
   "source": []
  },
  {
   "cell_type": "markdown",
   "id": "fb88a887-e857-4eca-a14f-a357f17dff80",
   "metadata": {},
   "source": [
    "## References\n",
    "\n",
    "1. Wanda Hou and Yi-Zhuang You (16 October 2023). Machine learning renormalization group for statistical physics. Machine Learning: Science and Technology, 4(4), 045010. Published by IOP Publishing Ltd. https://doi.org/10.1088/2632-2153/ad0101\n",
    "\n",
    "2. Machine Learning Renormalization Group for Statistical Physics. Wanda Hou, Yi-Zhuang You (19 Jun 2023). Papers with Code. https://physics.paperswithcode.com/paper/machine-learning-renormalization-group-for\n",
    "\n",
    "3. GitHub Repository: everettyou/mlrg. (n.d.). https://github.com/everettyou/mlrg\n",
    "\n",
    "4. Link to article: https://arxiv.org/pdf/2306.11054v2"
   ]
  }
 ],
 "metadata": {
  "kernelspec": {
   "display_name": "Python 3 (ipykernel)",
   "language": "python",
   "name": "python3"
  },
  "language_info": {
   "codemirror_mode": {
    "name": "ipython",
    "version": 3
   },
   "file_extension": ".py",
   "mimetype": "text/x-python",
   "name": "python",
   "nbconvert_exporter": "python",
   "pygments_lexer": "ipython3",
   "version": "3.9.12"
  }
 },
 "nbformat": 4,
 "nbformat_minor": 5
}

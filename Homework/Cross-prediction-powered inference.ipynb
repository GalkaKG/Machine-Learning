{
 "cells": [
  {
   "cell_type": "markdown",
   "id": "33b741b1-830d-4e14-a895-cad7a019ec16",
   "metadata": {},
   "source": [
    "# Review of Article: Cross-prediction-powered inference\n",
    "\n",
    "Link to article: https://arxiv.org/pdf/2309.16598v3\n"
   ]
  },
  {
   "cell_type": "markdown",
   "id": "f30e1d13-9067-47ba-addd-7b1596dbdd14",
   "metadata": {},
   "source": [
    "### Authors\n",
    "- Tijana Zrnic , Department of Statistics and Stanford Data Science\n",
    "- Emmanuel J. Candés, Department of Statistics and Department of Mathematics Stanford University\n",
    "\n",
    "### Problem Addressed\n",
    "The article addresses the issue of reliable data-driven decision-making in the context of machine learning, which is critical in the fields of data science and artificial intelligence. It highlights the challenges associated with the labor-intensive and costly nature of acquiring high-quality labeled data, as well as the potential biases and inaccuracies that arise from using machine-generated predictions. Specifically, the authors focus on the limitations of traditional label acquisition methods and the need for robust inference techniques when working with limited labeled datasets.\n",
    "\n",
    "By examining the novel approach of cross-prediction, which combines small labeled datasets with large unlabeled datasets while incorporating a debiasing step, the article aims to provide insights into how to improve the validity and power of inferences drawn from machine learning models. This is particularly relevant because ensuring the reliability of predictions is essential for making sound decisions in practical applications such as environmental monitoring and public policy.\n",
    "\n",
    "Overall, the article contributes to the existing body of literature by proposing a new framework that leverages machine learning outputs in a principled manner, thus enhancing the stability and credibility of data-driven conclusions. This approach addresses the identified gaps in knowledge and offers a pathway for future research on semi-supervised inference in various domains.\n",
    "\n",
    "### Methods Used\n",
    "__In the article, the authors introduce the cross-prediction method, which employs black-box machine learning to impute missing labels from a small labeled dataset combined with a larger unlabeled dataset. This approach yields valid inferences through a specific debiasing step designed to address prediction inaccuracies, ensuring the reliability of the results. Additionally, the power of the method is amplified by sophisticated predictive techniques, such as deep learning and random forests, leading to significant improvements in statistical power compared to relying on labeled data alone.__\n",
    "\n",
    "The article employs a novel methodology known as cross-prediction, which operates within a semi-supervised framework to address the challenges of label scarcity in machine learning. The approach begins by utilizing a small labeled dataset alongside a large unlabeled dataset. Cross-prediction imputes missing labels using sophisticated predictive techniques, such as deep learning and random forests, to enhance the model's ability to make accurate predictions.\n",
    "\n",
    "To ensure the validity of the inferences made from these predictions, the authors incorporate a debiasing step that remedies potential inaccuracies in the model outputs. This step is crucial for maintaining the integrity of the inferences drawn from the data. The article compares the effectiveness of cross-prediction against other methods, such as prediction-powered inference, by analyzing various statistical metrics, including statistical power and variability of confidence intervals.\n",
    "\n",
    "Through a series of experiments, the authors demonstrate the advantages of cross-prediction over traditional methods, particularly in terms of achieving lower variability in confidence intervals and providing more stable conclusions. The findings highlight the method's ability to leverage the unlabeled data effectively, thus improving the overall robustness of machine learning models in real-world applications.\n",
    "\n",
    "### Key Findings:\n",
    " The article presents several significant findings regarding the effectiveness of the cross-prediction method for improving inferential statistics in semi-supervised learning contexts.\n",
    "\n",
    "1. Enhanced Statistical Power: Cross-prediction demonstrates a substantial improvement in statistical power compared to traditional methods that rely solely on labeled data. By leveraging a combination of a small labeled dataset and a larger unlabeled dataset, cross-prediction allows for more accurate and powerful inferences about population-level quantities.\n",
    "\n",
    "2. Stability of Conclusions: The findings indicate that cross-prediction yields more stable conclusions than competing methods, such as prediction-powered inference and classical inference. The confidence intervals produced by cross-prediction exhibit significantly lower variability, making the inferences more reliable.\n",
    "\n",
    "3. Effectiveness of Debiasing: The inclusion of a debiasing step within the cross-prediction framework is critical for achieving valid inferences. This step addresses the inaccuracies inherent in machine learning predictions, thereby enhancing the credibility of the results.\n",
    "\n",
    "4. Comparison to Existing Approaches: Cross-prediction is shown to be more effective than prediction-powered inference that involves data splitting. The article illustrates through experiments that the confidence intervals from cross-prediction are narrower and more accurate, providing a more robust framework for inference in data-scarce environments.\n",
    "\n",
    "5. Applicability Across Domains: The methodology has broad applicability, particularly in fields where high-quality labels are scarce, such as environmental science, healthcare, and socio-economic research, emphasizing the relevance of this approach for real-world decision-making.\n",
    "\n",
    "### Conclusion\n",
    "In conclusion, the authors emphasize the significance of their proposed cross-prediction method as a robust solution for valid inference in the realm of machine learning. They highlight that traditional reliance on labeled data can lead to suboptimal results due to biases and variability, whereas cross-prediction effectively addresses these issues through a careful imputation process and a strategic debiasing step. By leveraging both labeled and unlabeled datasets, the method not only enhances statistical power but also provides more stable and reliable conclusions.\n",
    "\n",
    "The findings underscore the necessity for improved uncertainty quantification in data-driven decision-making, especially in fields where high-quality labeled data is scarce or difficult to obtain. The authors advocate for the broader adoption of cross-prediction to enhance the credibility of machine learning applications across various domains, ultimately contributing to more informed and reliable decision-making processes in scientific research and practical applications."
   ]
  },
  {
   "cell_type": "markdown",
   "id": "4dc034e6-e640-4d47-bfac-dbe208501854",
   "metadata": {},
   "source": [
    "## Reproducing the Results:\n",
    "\n",
    "\n",
    "__Code Availability__: The code is available in the GitHub repository at https://github.com/tijana-zrnic/cross-ppi.\n",
    "\n",
    "__Results Comparison__:\n",
    "\n",
    "- I cloned the repository and successfully ran two Jupyter notebooks located in the C:\\cross-ppi\\deforestation directory: After running the deforestation_heuristics.ipynb and deforestation.ipynb notebooks, I obtained the results required for the comparison. The results align well with the expectations from the homework assignment and provide the necessary data and insights to complete the tasks.\n",
    "\n",
    "The output files were stored in the deforestation_results folder, and the results can now be applied to my homework.\n",
    "\n",
    "\n",
    "- The Galaxy dataset used in this study can be accessed and downloaded from the following link: https://drive.google.com/drive/folders/1Q0ArmjbOFTkEjrOJt-mkVvJpSZTqfIEL. After running the galaxies.ipynb , the output generated is saved as a PDF file named galaxy_comparison.pdf, which I have provided in the galaxies_results folder in the homework.\n",
    "\n"
   ]
  },
  {
   "cell_type": "code",
   "execution_count": null,
   "id": "8062359c-d36b-4d4a-a83c-38f9dd9139f1",
   "metadata": {},
   "outputs": [],
   "source": []
  },
  {
   "cell_type": "markdown",
   "id": "95527c6b-372c-44d6-a5ee-03057f1dc5bb",
   "metadata": {},
   "source": [
    "## References\n",
    "\n",
    "1. Zrnic, T., & Candès, E. J. (April 2024). Cross-prediction-powered inference. Proceedings of the National Academy of Sciences, 121(15), Article e2322083121. Bibcode: 2024PNAS..12122083Z. https://doi.org/10.1073/pnas.2322083121 . https://ui.adsabs.harvard.edu/abs/2024PNAS..12122083Z/abstract\n",
    "\n",
    "2. Tijana Zrnic, Emmanuel J. Candès (28 Sep 2023). Cross-prediction powered inference. Papers with Code. https://paperswithcode.com/paper/cross-prediction-powered-inference\n",
    "\n",
    "3. Zrnic, T. (2024). cross-ppi [GitHub repository]. GitHub. https://github.com/tijana-zrnic/cross-ppi?tab=readme-ov-file\n"
   ]
  }
 ],
 "metadata": {
  "kernelspec": {
   "display_name": "Python 3 (ipykernel)",
   "language": "python",
   "name": "python3"
  },
  "language_info": {
   "codemirror_mode": {
    "name": "ipython",
    "version": 3
   },
   "file_extension": ".py",
   "mimetype": "text/x-python",
   "name": "python",
   "nbconvert_exporter": "python",
   "pygments_lexer": "ipython3",
   "version": "3.11.7"
  }
 },
 "nbformat": 4,
 "nbformat_minor": 5
}

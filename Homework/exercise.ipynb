{
 "cells": [
  {
   "cell_type": "code",
   "execution_count": 13,
   "id": "f072f373-6781-4e45-926a-c8bdfdb41daa",
   "metadata": {},
   "outputs": [
    {
     "data": {
      "application/vnd.jupyter.widget-view+json": {
       "model_id": "42588ad3930b45639edf1bd7080c2c5a",
       "version_major": 2,
       "version_minor": 0
      },
      "text/plain": [
       "Loading pipeline components...:   0%|          | 0/7 [00:00<?, ?it/s]"
      ]
     },
     "metadata": {},
     "output_type": "display_data"
    },
    {
     "data": {
      "application/vnd.jupyter.widget-view+json": {
       "model_id": "cf49a796169a4e139704ad859f2a292d",
       "version_major": 2,
       "version_minor": 0
      },
      "text/plain": [
       "  0%|          | 0/50 [00:00<?, ?it/s]"
      ]
     },
     "metadata": {},
     "output_type": "display_data"
    }
   ],
   "source": [
    "# from diffusers import DiffusionPipeline\n",
    "\n",
    "# pipe = DiffusionPipeline.from_pretrained(\"CompVis/stable-diffusion-v1-4\")\n",
    "\n",
    "# prompt = \"Astronaut in a jungle, cold color palette, muted colors, detailed, 8k\"\n",
    "# image = pipe(prompt).images[0]"
   ]
  },
  {
   "cell_type": "code",
   "execution_count": 14,
   "id": "46236909-e936-4b26-9814-6d2cacc39d68",
   "metadata": {},
   "outputs": [],
   "source": [
    "# image.show()"
   ]
  },
  {
   "cell_type": "code",
   "execution_count": 4,
   "id": "6848d8e8-38c1-45d3-aaa2-c903c40a4a03",
   "metadata": {},
   "outputs": [],
   "source": [
    "# from diffusers import DiffusionPipeline\n",
    "\n",
    "# # Load the model\n",
    "# pipe = DiffusionPipeline.from_pretrained(\"RED-AIGC/StoryMaker\")\n",
    "\n",
    "# # Define your prompt\n",
    "# prompt = \"Astronaut in a jungle, cold color palette, muted colors, detailed, 8k\"\n",
    "\n",
    "# # Generate the image\n",
    "# image = pipe(prompt).images[0]\n",
    "# image.show()  # Display the image (if running in an environment that supports image display)\n",
    "\n"
   ]
  },
  {
   "cell_type": "code",
   "execution_count": 12,
   "id": "07610796-aa20-497f-b281-42a37b8fee49",
   "metadata": {},
   "outputs": [
    {
     "data": {
      "application/vnd.jupyter.widget-view+json": {
       "model_id": "9b433710c93d47c2b4a68fc38457c62c",
       "version_major": 2,
       "version_minor": 0
      },
      "text/plain": [
       "Loading pipeline components...:   0%|          | 0/7 [00:00<?, ?it/s]"
      ]
     },
     "metadata": {},
     "output_type": "display_data"
    },
    {
     "data": {
      "application/vnd.jupyter.widget-view+json": {
       "model_id": "4a0c50d2756a486098cc9e23afde52fb",
       "version_major": 2,
       "version_minor": 0
      },
      "text/plain": [
       "  0%|          | 0/50 [00:00<?, ?it/s]"
      ]
     },
     "metadata": {},
     "output_type": "display_data"
    },
    {
     "name": "stdout",
     "output_type": "stream",
     "text": [
      "StableDiffusionPipelineOutput(images=[<PIL.Image.Image image mode=RGB size=512x512 at 0x21B551EB690>], nsfw_content_detected=[False])\n"
     ]
    }
   ],
   "source": [
    "from diffusers import StableDiffusionPipeline\n",
    "\n",
    "# Load the model\n",
    "pipe = StableDiffusionPipeline.from_pretrained(\"CompVis/stable-diffusion-v1-4\")\n",
    "\n",
    "# pipe = pipe.to(\"cuda\")\n",
    "\n",
    "# Input your text prompt\n",
    "prompt = \"A blond beautiful girl that looks realistic\"\n",
    "\n",
    "# Generate image\n",
    "output = pipe(prompt)\n",
    "\n",
    "# Inspect the output\n",
    "print(output)  # Add this line to see the structure of the output\n",
    "\n",
    "# Access the generated image based on the actual output structure\n",
    "image = output.images[0]  # Use 'images' instead of 'sample'\n",
    "\n",
    "# Save or display the image\n",
    "image.save(\"blond_girl_image.png\")\n"
   ]
  },
  {
   "cell_type": "code",
   "execution_count": null,
   "id": "311b8c76-6abe-4f4d-b224-67b50056852d",
   "metadata": {},
   "outputs": [],
   "source": []
  }
 ],
 "metadata": {
  "kernelspec": {
   "display_name": "Python 3 (ipykernel)",
   "language": "python",
   "name": "python3"
  },
  "language_info": {
   "codemirror_mode": {
    "name": "ipython",
    "version": 3
   },
   "file_extension": ".py",
   "mimetype": "text/x-python",
   "name": "python",
   "nbconvert_exporter": "python",
   "pygments_lexer": "ipython3",
   "version": "3.9.12"
  }
 },
 "nbformat": 4,
 "nbformat_minor": 5
}

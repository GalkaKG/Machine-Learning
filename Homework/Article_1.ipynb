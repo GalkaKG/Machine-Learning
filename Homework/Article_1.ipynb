{
 "cells": [
  {
   "cell_type": "markdown",
   "id": "33b741b1-830d-4e14-a895-cad7a019ec16",
   "metadata": {},
   "source": [
    "# Review of Article: Cross-prediction-powered inference\n",
    "\n",
    "Link to article: https://arxiv.org/pdf/2309.16598v3\n"
   ]
  },
  {
   "cell_type": "markdown",
   "id": "b3d16b8e-e9cd-440a-8d41-720edb36cc45",
   "metadata": {},
   "source": [
    "Structure:\n",
    "## Review of Article 1: [Title of the Article]\n",
    "\n",
    "### Summary:\n",
    "- **Authors**: [Names]\n",
    "- **Problem Addressed**: [What issue or question does the article address?]\n",
    "- **Methods Used**: [Summarize the approach/methods used in the article.]\n",
    "- **Key Findings**: [Summarize the results and findings.]\n",
    "- **Conclusion**: [Summarize the authors' final thoughts.]\n",
    "\n",
    "### Reproducing the Results:\n",
    "- **Code Availability**: [Was code provided? If yes, what repository? If no, how did you approach reproducing the results?]\n",
    "- **Dataset**: [Was the dataset available? If no, how did you substitute it?]\n",
    "- **Results Comparison**: [Compare your results with the original ones. Mention any discrepancies and possible reasons.]\n",
    "\n",
    "### Conclusion:\n",
    "- [Summarize your review of the article, mentioning any difficulties you encountered, lessons learned, and your overall evaluation.]\n"
   ]
  },
  {
   "cell_type": "code",
   "execution_count": null,
   "id": "493a1550-cc5f-4755-a61a-aa500094bdd2",
   "metadata": {},
   "outputs": [],
   "source": []
  },
  {
   "cell_type": "code",
   "execution_count": null,
   "id": "ceee9ff1-12b3-4cba-abdf-6e25da5cb8ac",
   "metadata": {},
   "outputs": [],
   "source": []
  },
  {
   "cell_type": "code",
   "execution_count": null,
   "id": "76faafd2-9b75-470f-8f1e-303143054862",
   "metadata": {},
   "outputs": [],
   "source": []
  },
  {
   "cell_type": "code",
   "execution_count": null,
   "id": "8062359c-d36b-4d4a-a83c-38f9dd9139f1",
   "metadata": {},
   "outputs": [],
   "source": []
  },
  {
   "cell_type": "markdown",
   "id": "95527c6b-372c-44d6-a5ee-03057f1dc5bb",
   "metadata": {},
   "source": [
    "## References\n",
    "\n",
    "1. Zrnic, T., & Candès, E. J. (April 2024). Cross-prediction-powered inference. Proceedings of the National Academy of Sciences, 121(15), Article e2322083121. Bibcode: 2024PNAS..12122083Z. https://doi.org/10.1073/pnas.2322083121 . https://ui.adsabs.harvard.edu/abs/2024PNAS..12122083Z/abstract\n",
    "\n",
    "2. Tijana Zrnic, Emmanuel J. Candès (28 Sep 2023). Cross-prediction powered inference. Papers with Code. https://paperswithcode.com/paper/cross-prediction-powered-inference\n",
    "\n",
    "3. Zrnic, T. (2024). cross-ppi [GitHub repository]. GitHub. https://github.com/tijana-zrnic/cross-ppi?tab=readme-ov-file\n"
   ]
  }
 ],
 "metadata": {
  "kernelspec": {
   "display_name": "Python 3 (ipykernel)",
   "language": "python",
   "name": "python3"
  },
  "language_info": {
   "codemirror_mode": {
    "name": "ipython",
    "version": 3
   },
   "file_extension": ".py",
   "mimetype": "text/x-python",
   "name": "python",
   "nbconvert_exporter": "python",
   "pygments_lexer": "ipython3",
   "version": "3.9.12"
  }
 },
 "nbformat": 4,
 "nbformat_minor": 5
}

{
 "cells": [
  {
   "cell_type": "code",
   "execution_count": 1,
   "id": "c279623b-527e-4069-b16c-065b9ae05c75",
   "metadata": {},
   "outputs": [],
   "source": [
    "%run \"MLRG.py\""
   ]
  },
  {
   "cell_type": "code",
   "execution_count": 2,
   "id": "0ab2cba9-6cd2-40ac-8714-e86fefc66417",
   "metadata": {},
   "outputs": [
    {
     "name": "stderr",
     "output_type": "stream",
     "text": [
      "C:\\Users\\galin\\AppData\\Local\\Temp\\ipykernel_42568\\2076225876.py:2: FutureWarning: You are using `torch.load` with `weights_only=False` (the current default value), which uses the default pickle module implicitly. It is possible to construct malicious pickle data which will execute arbitrary code during unpickling (See https://github.com/pytorch/pytorch/blob/main/SECURITY.md#untrusted-models for more details). In a future release, the default value for `weights_only` will be flipped to `True`. This limits the functions that could be executed during unpickling. Arbitrary objects will no longer be allowed to be loaded via this mode unless they are explicitly allowlisted by the user via `torch.serialization.add_safe_globals`. We recommend you start setting `weights_only=True` for any use case where you don't have full control of the loaded file. Please open an issue on GitHub for any issues related to this experimental feature.\n",
      "  mlrg.load_state_dict(torch.load(\"./models/A1E/\" + \"trial0/0mlrg_A1E.pth\", map_location=device))\n"
     ]
    },
    {
     "data": {
      "text/plain": [
       "<All keys matched successfully>"
      ]
     },
     "execution_count": 2,
     "metadata": {},
     "output_type": "execute_result"
    }
   ],
   "source": [
    "mlrg = MLRG(Sn_dat[2],['A1','E'],[12,24,6]).to(device)\n",
    "mlrg.load_state_dict(torch.load(\"./models/A1E/\" + \"trial0/0mlrg_A1E.pth\", map_location=device))"
   ]
  },
  {
   "cell_type": "code",
   "execution_count": 3,
   "id": "bb8c5c8b-0d18-4154-81d7-5435517060f8",
   "metadata": {},
   "outputs": [],
   "source": [
    "optimizer=torch.optim.Adam(mlrg.parameters(), lr=0.0001)"
   ]
  },
  {
   "cell_type": "code",
   "execution_count": 4,
   "id": "cb846fd0-83da-4a81-8ebd-12b9241f6450",
   "metadata": {},
   "outputs": [],
   "source": [
    "Jtch = torch.randn(1000, 5).to(device)"
   ]
  },
  {
   "cell_type": "code",
   "execution_count": 5,
   "id": "eebdd59f-4046-45be-8f87-e90f9ca2a01d",
   "metadata": {},
   "outputs": [
    {
     "data": {
      "text/plain": [
       "tensor([[ 0.1497, -0.2279, -1.1397,  0.0213,  0.2418],\n",
       "        [ 0.8748, -0.5543,  0.6796,  1.0219,  0.4357],\n",
       "        [ 0.0210,  2.0475, -1.0225,  1.1027, -0.1913],\n",
       "        ...,\n",
       "        [ 1.3544, -0.8154, -1.4709,  0.0993, -1.7124],\n",
       "        [-0.7736,  1.3139, -0.4054,  1.2131, -1.4269],\n",
       "        [ 1.0324, -0.3331, -0.2147, -1.4737, -0.1066]])"
      ]
     },
     "execution_count": 5,
     "metadata": {},
     "output_type": "execute_result"
    }
   ],
   "source": [
    "Jtch"
   ]
  },
  {
   "cell_type": "code",
   "execution_count": null,
   "id": "32cef201-1f48-4a00-9bb5-3e994599bc81",
   "metadata": {},
   "outputs": [
    {
     "name": "stdout",
     "output_type": "stream",
     "text": [
      "0: 0.08920170366764069 0.7190833687782288\n"
     ]
    }
   ],
   "source": [
    "for i in range(200):\n",
    "    optimizer.zero_grad()\n",
    "    Jtch = mlrg.propose(Jtch, beta=5.,lamb=0.,mu=0.,steps=8)\n",
    "    loss = mlrg.loss(Jtch=Jtch, samples=5000, gibbssteps=50, cdsteps=5).mean(-1)\n",
    "    loss.backward()\n",
    "    optimizer.step()\n",
    "    import os\n",
    "\n",
    "    # Create the target directory if it doesn't exist\n",
    "    save_dir = \"./models/A1E/finetune\"\n",
    "    os.makedirs(save_dir, exist_ok=True)\n",
    "    \n",
    "    torch.save(mlrg.state_dict(), \"./models/A1E/\" + \"finetune/mlrg_A1E.pth\")\n",
    "    print(f'{i}: {loss.item()} {Jtch.abs().mean()}')\n",
    "    \n",
    "print(\"Finish\")"
   ]
  },
  {
   "cell_type": "code",
   "execution_count": null,
   "id": "2bc9dd09-c334-4471-b2c7-b8117a9e3234",
   "metadata": {},
   "outputs": [],
   "source": []
  }
 ],
 "metadata": {
  "kernelspec": {
   "display_name": "Python 3 (ipykernel)",
   "language": "python",
   "name": "python3"
  },
  "language_info": {
   "codemirror_mode": {
    "name": "ipython",
    "version": 3
   },
   "file_extension": ".py",
   "mimetype": "text/x-python",
   "name": "python",
   "nbconvert_exporter": "python",
   "pygments_lexer": "ipython3",
   "version": "3.9.12"
  }
 },
 "nbformat": 4,
 "nbformat_minor": 5
}
